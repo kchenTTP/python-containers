{
  "nbformat": 4,
  "nbformat_minor": 0,
  "metadata": {
    "colab": {
      "provenance": [],
      "toc_visible": true,
      "authorship_tag": "ABX9TyOEMKc/Gi8wHUOFWoimyM4O",
      "include_colab_link": true
    },
    "kernelspec": {
      "name": "python3",
      "display_name": "Python 3"
    },
    "language_info": {
      "name": "python"
    }
  },
  "cells": [
    {
      "cell_type": "markdown",
      "metadata": {
        "id": "view-in-github",
        "colab_type": "text"
      },
      "source": [
        "<a href=\"https://colab.research.google.com/github/kchenTTP/python-containers/blob/main/Python_Container_Datatypes_Starter.ipynb\" target=\"_parent\"><img src=\"https://colab.research.google.com/assets/colab-badge.svg\" alt=\"Open In Colab\"/></a>"
      ]
    },
    {
      "cell_type": "markdown",
      "source": [
        "# **Python Container DataTypes**\n",
        "\n",
        "Container datatypes are built-in data structures that hold collections of other objects. They are used to store and organize multiple values in a single variable. We will go through 4 most common Python container Datatypes"
      ],
      "metadata": {
        "id": "E_MyVJKDQsHe"
      }
    },
    {
      "cell_type": "markdown",
      "source": [
        "**Overview**\n",
        "- Keywords & Definition\n",
        "- Most common container datatypes\n",
        "  - Lists\n",
        "  - Sets\n",
        "  - Tuples\n",
        "  - Dictionaries\n",
        "- Excercise\n",
        "- Resources for futhure learning"
      ],
      "metadata": {
        "id": "t1z501UetU9u"
      }
    },
    {
      "cell_type": "markdown",
      "source": [
        "# Keywords & Definition\n",
        "\n",
        "**Methods**: Functions that are associated with a class or its instances (objects)\n",
        "\n",
        "**Order**: An ordered data structure maintains the sequence or order in which the elements were added or defined\n",
        "\n",
        "**Index**: Index-based data structures allow accessing elements based on their position or index.\n",
        "\n",
        "**Mutable**: Mutable objects can be modified or changed after they are created"
      ],
      "metadata": {
        "id": "WHsJ-ciVQ2pF"
      }
    },
    {
      "cell_type": "markdown",
      "source": [
        "# Lists\n",
        "- **Ordered**\n",
        "- **Indexed**\n",
        "- **Mutable**\n",
        "\n",
        "[List Methods](https://www.w3schools.com/python/python_ref_list.asp)"
      ],
      "metadata": {
        "id": "0epx0-j50vst"
      }
    },
    {
      "cell_type": "code",
      "source": [
        "# create a list of colors\n",
        "colors_list = ['red', 'yellow', 'blue', 'orange', 'green', 'purple']\n",
        "colors_list"
      ],
      "metadata": {
        "id": "GYSgDFTFz5yD",
        "colab": {
          "base_uri": "https://localhost:8080/"
        },
        "outputId": "4d822f2b-d53c-419b-e55c-07f32777fa60"
      },
      "execution_count": 3,
      "outputs": [
        {
          "output_type": "execute_result",
          "data": {
            "text/plain": [
              "['red', 'yellow', 'blue', 'orange', 'green', 'purple']"
            ]
          },
          "metadata": {},
          "execution_count": 3
        }
      ]
    },
    {
      "cell_type": "markdown",
      "source": [
        "## Index Slicing"
      ],
      "metadata": {
        "id": "a9dJgVAP0q7v"
      }
    },
    {
      "cell_type": "code",
      "source": [
        "# index Slicing\n",
        "print(colors_list[2])\n",
        "print(colors_list[-2])\n",
        "print(colors_list[1:4])\n",
        "print(colors_list[1:])\n",
        "print(colors_list[:4])\n",
        "print(colors_list[-4:-2])\n",
        "print(colors_list[1:5:2])\n",
        "print(colors_list[1::2])\n",
        "print(colors_list[::2])"
      ],
      "metadata": {
        "colab": {
          "base_uri": "https://localhost:8080/"
        },
        "id": "j5F3-8_K1ANV",
        "outputId": "3677af63-b0bf-49eb-98ac-8481fa31c7fa"
      },
      "execution_count": 4,
      "outputs": [
        {
          "output_type": "stream",
          "name": "stdout",
          "text": [
            "blue\n",
            "green\n",
            "['yellow', 'blue', 'orange']\n",
            "['yellow', 'blue', 'orange', 'green', 'purple']\n",
            "['red', 'yellow', 'blue', 'orange']\n",
            "['blue', 'orange']\n",
            "['yellow', 'orange']\n",
            "['yellow', 'orange', 'purple']\n",
            "['red', 'blue', 'green']\n"
          ]
        }
      ]
    },
    {
      "cell_type": "code",
      "source": [
        "# string Indexing\n",
        "var_1 = \"The New York Public Library\"\n",
        "var_1[7:21]"
      ],
      "metadata": {
        "colab": {
          "base_uri": "https://localhost:8080/",
          "height": 35
        },
        "id": "JndtqaX_1OD-",
        "outputId": "2d08fe70-b86f-4dd8-b0ba-65fb384f8f0f"
      },
      "execution_count": 11,
      "outputs": [
        {
          "output_type": "execute_result",
          "data": {
            "text/plain": [
              "' York Public L'"
            ],
            "application/vnd.google.colaboratory.intrinsic+json": {
              "type": "string"
            }
          },
          "metadata": {},
          "execution_count": 11
        }
      ]
    },
    {
      "cell_type": "code",
      "source": [
        "# reassign values in list\n",
        "colors_list[0] = 'teal'\n",
        "colors_list"
      ],
      "metadata": {
        "colab": {
          "base_uri": "https://localhost:8080/"
        },
        "id": "81jSsYEP3mMC",
        "outputId": "f6478d5d-c804-4767-96d9-946844469a82"
      },
      "execution_count": 6,
      "outputs": [
        {
          "output_type": "execute_result",
          "data": {
            "text/plain": [
              "['teal', 'yellow', 'blue', 'orange', 'green', 'purple']"
            ]
          },
          "metadata": {},
          "execution_count": 6
        }
      ]
    },
    {
      "cell_type": "markdown",
      "source": [
        "## List Methods"
      ],
      "metadata": {
        "id": "RvLmz1ku1E_5"
      }
    },
    {
      "cell_type": "code",
      "source": [
        "# append method add item to the end of list\n",
        "colors_list.append('violet')\n",
        "colors_list"
      ],
      "metadata": {
        "colab": {
          "base_uri": "https://localhost:8080/"
        },
        "id": "CXwZuwXj30c-",
        "outputId": "1d29d8ef-f65a-4de6-e3ee-5ce6f12a1080"
      },
      "execution_count": 12,
      "outputs": [
        {
          "output_type": "execute_result",
          "data": {
            "text/plain": [
              "['teal', 'yellow', 'blue', 'orange', 'green', 'purple', 'violet']"
            ]
          },
          "metadata": {},
          "execution_count": 12
        }
      ]
    },
    {
      "cell_type": "code",
      "source": [
        "# pop method remove last item in list\n",
        "colors_list.pop()\n",
        "colors_list"
      ],
      "metadata": {
        "colab": {
          "base_uri": "https://localhost:8080/"
        },
        "id": "3Hfc9Y3V4TqF",
        "outputId": "f7ad25a9-b6b8-4861-80f9-99e5200f103b"
      },
      "execution_count": 13,
      "outputs": [
        {
          "output_type": "execute_result",
          "data": {
            "text/plain": [
              "['teal', 'yellow', 'blue', 'orange', 'green', 'purple']"
            ]
          },
          "metadata": {},
          "execution_count": 13
        }
      ]
    },
    {
      "cell_type": "code",
      "source": [
        "# pop specific index\n",
        "colors_list.pop(3)\n",
        "colors_list"
      ],
      "metadata": {
        "colab": {
          "base_uri": "https://localhost:8080/"
        },
        "id": "1k2JLqA44tVf",
        "outputId": "43f3a7c8-c8e9-47b9-96a8-bc9e08f79cb9"
      },
      "execution_count": 14,
      "outputs": [
        {
          "output_type": "execute_result",
          "data": {
            "text/plain": [
              "['teal', 'yellow', 'blue', 'green', 'purple']"
            ]
          },
          "metadata": {},
          "execution_count": 14
        }
      ]
    },
    {
      "cell_type": "code",
      "source": [
        "# combine list with extend() method\n",
        "new_list = ['gray', 'brown', 'pink']\n",
        "colors_list.extend(new_list)\n",
        "print(colors_list)\n",
        "\n",
        "# combine list with + operator\n",
        "list_1 = [1, 2, 3]\n",
        "list_2 = [4, 5, 6]\n",
        "list_1 += list_2\n",
        "print(list_1)"
      ],
      "metadata": {
        "id": "KUou7-c74vVk",
        "colab": {
          "base_uri": "https://localhost:8080/"
        },
        "outputId": "806e7cd2-5f31-47b0-ba7a-756811311f7b"
      },
      "execution_count": 25,
      "outputs": [
        {
          "output_type": "stream",
          "name": "stdout",
          "text": [
            "['yellow', 'teal', 'purple', 'pink', 'mauve', 'green', 'gray', 'brown', 'blue', 'gray', 'brown', 'pink']\n",
            "[1, 2, 3, 4, 5, 6]\n"
          ]
        }
      ]
    },
    {
      "cell_type": "code",
      "source": [
        "# insert item into idex 2\n",
        "colors_list.insert(2, 'mauve')\n",
        "colors_list"
      ],
      "metadata": {
        "id": "nYw6N4oh5HtM",
        "colab": {
          "base_uri": "https://localhost:8080/"
        },
        "outputId": "9cf220c8-cfbd-4008-c9ee-193fb0db181a"
      },
      "execution_count": 16,
      "outputs": [
        {
          "output_type": "execute_result",
          "data": {
            "text/plain": [
              "['teal', 'yellow', 'mauve', 'blue', 'green', 'purple', 'gray', 'brown', 'pink']"
            ]
          },
          "metadata": {},
          "execution_count": 16
        }
      ]
    },
    {
      "cell_type": "code",
      "source": [
        "# sort a list of strings\n",
        "colors_list.sort()\n",
        "colors_list"
      ],
      "metadata": {
        "colab": {
          "base_uri": "https://localhost:8080/"
        },
        "id": "-16dzjdz5iAk",
        "outputId": "8ed7f296-f8ec-4e5a-98cf-219e50ee3326"
      },
      "execution_count": 17,
      "outputs": [
        {
          "output_type": "execute_result",
          "data": {
            "text/plain": [
              "['blue', 'brown', 'gray', 'green', 'mauve', 'pink', 'purple', 'teal', 'yellow']"
            ]
          },
          "metadata": {},
          "execution_count": 17
        }
      ]
    },
    {
      "cell_type": "code",
      "source": [
        "# sort a list of numbers\n",
        "num_list = [3, 2, 5, 1]\n",
        "num_list.sort()\n",
        "num_list"
      ],
      "metadata": {
        "colab": {
          "base_uri": "https://localhost:8080/"
        },
        "id": "dM2DsQpc6Kks",
        "outputId": "188e288c-7f37-4639-fd46-9bbe782f2a92"
      },
      "execution_count": 18,
      "outputs": [
        {
          "output_type": "execute_result",
          "data": {
            "text/plain": [
              "[1, 2, 3, 5]"
            ]
          },
          "metadata": {},
          "execution_count": 18
        }
      ]
    },
    {
      "cell_type": "code",
      "source": [
        "# reverse a list\n",
        "colors_list.reverse()\n",
        "colors_list"
      ],
      "metadata": {
        "colab": {
          "base_uri": "https://localhost:8080/"
        },
        "id": "LuDF_kHT587g",
        "outputId": "14ec483d-ea28-4218-d000-479076ef19c8"
      },
      "execution_count": 19,
      "outputs": [
        {
          "output_type": "execute_result",
          "data": {
            "text/plain": [
              "['yellow', 'teal', 'purple', 'pink', 'mauve', 'green', 'gray', 'brown', 'blue']"
            ]
          },
          "metadata": {},
          "execution_count": 19
        }
      ]
    },
    {
      "cell_type": "code",
      "source": [
        "# find index of item\n",
        "colors_list.index('green')"
      ],
      "metadata": {
        "colab": {
          "base_uri": "https://localhost:8080/"
        },
        "id": "d4T1LFNZ6Z2r",
        "outputId": "1dbd188c-4b17-49cd-f048-6f603ea0b89c"
      },
      "execution_count": 20,
      "outputs": [
        {
          "output_type": "execute_result",
          "data": {
            "text/plain": [
              "5"
            ]
          },
          "metadata": {},
          "execution_count": 20
        }
      ]
    },
    {
      "cell_type": "code",
      "source": [
        "# check if item in list\n",
        "print('brown' in colors_list)\n",
        "print('brown' not in colors_list)"
      ],
      "metadata": {
        "colab": {
          "base_uri": "https://localhost:8080/"
        },
        "id": "JjpDENTq6sI8",
        "outputId": "ec0e3026-8f2c-4ab1-91dd-42598da5a088"
      },
      "execution_count": 21,
      "outputs": [
        {
          "output_type": "stream",
          "name": "stdout",
          "text": [
            "True\n",
            "False\n"
          ]
        }
      ]
    },
    {
      "cell_type": "code",
      "source": [
        "# looping over a list\n",
        "print(colors_list)\n",
        "print()\n",
        "\n",
        "for color in colors_list:\n",
        "  print(colors_list.index(color), color)"
      ],
      "metadata": {
        "colab": {
          "base_uri": "https://localhost:8080/"
        },
        "id": "65P9iQq269j7",
        "outputId": "ffb59aeb-2e6d-4c10-81fb-6a377891e57f"
      },
      "execution_count": 23,
      "outputs": [
        {
          "output_type": "stream",
          "name": "stdout",
          "text": [
            "['yellow', 'teal', 'purple', 'pink', 'mauve', 'green', 'gray', 'brown', 'blue']\n",
            "\n",
            "0 yellow\n",
            "1 teal\n",
            "2 purple\n",
            "3 pink\n",
            "4 mauve\n",
            "5 green\n",
            "6 gray\n",
            "7 brown\n",
            "8 blue\n"
          ]
        }
      ]
    },
    {
      "cell_type": "code",
      "source": [
        "num_list = [1, 2, 3, 4, 5]\n",
        "new_list = []\n",
        "\n",
        "for num in num_list:\n",
        "  new_list.append(num**2)\n",
        "print(new_list)\n",
        "\n",
        "# list comprehension\n",
        "new_new_list = [x**2 for x in num_list]\n",
        "print(new_new_list)"
      ],
      "metadata": {
        "colab": {
          "base_uri": "https://localhost:8080/"
        },
        "id": "MVxHMdj27acD",
        "outputId": "2348d73c-9bcf-4483-ec77-44f8ff8171a8"
      },
      "execution_count": 24,
      "outputs": [
        {
          "output_type": "stream",
          "name": "stdout",
          "text": [
            "[1, 4, 9, 16, 25]\n",
            "[1, 4, 9, 16, 25]\n"
          ]
        }
      ]
    },
    {
      "cell_type": "markdown",
      "source": [
        "# Sets\n",
        "A set is used to store unordered and unchangeable multiple items in a single variable\n",
        "\n",
        "- Not **ordered**\n",
        "- Not **indexed**\n",
        "-**Mutable**\n",
        "\n",
        "[Set Methods](https://www.w3schools.com/python/python_ref_set.asp)"
      ],
      "metadata": {
        "id": "KW00NukW9etN"
      }
    },
    {
      "cell_type": "code",
      "source": [
        "# create a set\n",
        "s1 = {'a', 'a', 'a', 'A', 'b', 'B', 'c', 'C'}\n",
        "s1 # only saves unique items"
      ],
      "metadata": {
        "colab": {
          "base_uri": "https://localhost:8080/"
        },
        "id": "V9iPT6zU8_d6",
        "outputId": "5f8e50e0-723a-4570-d9d4-596d5f49119b"
      },
      "execution_count": 26,
      "outputs": [
        {
          "output_type": "execute_result",
          "data": {
            "text/plain": [
              "{'A', 'B', 'C', 'a', 'b', 'c'}"
            ]
          },
          "metadata": {},
          "execution_count": 26
        }
      ]
    },
    {
      "cell_type": "code",
      "source": [
        "# check if item in set\n",
        "'a' in s1"
      ],
      "metadata": {
        "colab": {
          "base_uri": "https://localhost:8080/"
        },
        "id": "UsRuQoIQTfTK",
        "outputId": "89cba70a-6f05-4af1-edc5-5b2c3e759373"
      },
      "execution_count": 27,
      "outputs": [
        {
          "output_type": "execute_result",
          "data": {
            "text/plain": [
              "True"
            ]
          },
          "metadata": {},
          "execution_count": 27
        }
      ]
    },
    {
      "cell_type": "code",
      "source": [
        "# add item to set\n",
        "s1.add('d')\n",
        "s1"
      ],
      "metadata": {
        "colab": {
          "base_uri": "https://localhost:8080/"
        },
        "id": "8LAjdW1S9tUM",
        "outputId": "dbac6338-0a79-491b-9fa1-4f9eacdb3e04"
      },
      "execution_count": 28,
      "outputs": [
        {
          "output_type": "execute_result",
          "data": {
            "text/plain": [
              "{'A', 'B', 'C', 'a', 'b', 'c', 'd'}"
            ]
          },
          "metadata": {},
          "execution_count": 28
        }
      ]
    },
    {
      "cell_type": "code",
      "source": [
        "# remove item\n",
        "s1.remove('d')\n",
        "s1"
      ],
      "metadata": {
        "colab": {
          "base_uri": "https://localhost:8080/"
        },
        "id": "IyKEBq7z-TQq",
        "outputId": "c2822f41-4fbf-4aab-9275-10cf535cc642"
      },
      "execution_count": 29,
      "outputs": [
        {
          "output_type": "execute_result",
          "data": {
            "text/plain": [
              "{'A', 'B', 'C', 'a', 'b', 'c'}"
            ]
          },
          "metadata": {},
          "execution_count": 29
        }
      ]
    },
    {
      "cell_type": "code",
      "source": [
        "# discard item\n",
        "s1.discard('b')\n",
        "print(s1)"
      ],
      "metadata": {
        "colab": {
          "base_uri": "https://localhost:8080/"
        },
        "id": "TKkKZjHc_PeI",
        "outputId": "fd62ec65-d0e1-4a2b-97f0-8f22d66957ec"
      },
      "execution_count": 30,
      "outputs": [
        {
          "output_type": "stream",
          "name": "stdout",
          "text": [
            "{'a', 'A', 'c', 'C', 'B'}\n"
          ]
        }
      ]
    },
    {
      "cell_type": "code",
      "source": [
        "# removing non-existing item\n",
        "s1.remove('d')"
      ],
      "metadata": {
        "colab": {
          "base_uri": "https://localhost:8080/",
          "height": 184
        },
        "id": "VtU1pdXb_VPr",
        "outputId": "2935fdc3-6a09-4785-f30b-52c3fcd63553"
      },
      "execution_count": 31,
      "outputs": [
        {
          "output_type": "error",
          "ename": "KeyError",
          "evalue": "ignored",
          "traceback": [
            "\u001b[0;31m---------------------------------------------------------------------------\u001b[0m",
            "\u001b[0;31mKeyError\u001b[0m                                  Traceback (most recent call last)",
            "\u001b[0;32m<ipython-input-31-2e47342b87d6>\u001b[0m in \u001b[0;36m<cell line: 2>\u001b[0;34m()\u001b[0m\n\u001b[1;32m      1\u001b[0m \u001b[0;31m# removing non-existing item\u001b[0m\u001b[0;34m\u001b[0m\u001b[0;34m\u001b[0m\u001b[0m\n\u001b[0;32m----> 2\u001b[0;31m \u001b[0ms1\u001b[0m\u001b[0;34m.\u001b[0m\u001b[0mremove\u001b[0m\u001b[0;34m(\u001b[0m\u001b[0;34m'd'\u001b[0m\u001b[0;34m)\u001b[0m\u001b[0;34m\u001b[0m\u001b[0;34m\u001b[0m\u001b[0m\n\u001b[0m",
            "\u001b[0;31mKeyError\u001b[0m: 'd'"
          ]
        }
      ]
    },
    {
      "cell_type": "code",
      "source": [
        "# discarding non-existing item\n",
        "s1.discard('d')"
      ],
      "metadata": {
        "id": "4bJUDJSB_bpX"
      },
      "execution_count": 32,
      "outputs": []
    },
    {
      "cell_type": "code",
      "source": [
        "# pop removes a random item in set\n",
        "s1.pop()\n",
        "s1"
      ],
      "metadata": {
        "colab": {
          "base_uri": "https://localhost:8080/"
        },
        "id": "7E54BIZB_hZ2",
        "outputId": "eb4e09e5-f1ca-4821-ef7f-9eeb0cce0666"
      },
      "execution_count": 33,
      "outputs": [
        {
          "output_type": "execute_result",
          "data": {
            "text/plain": [
              "{'A', 'B', 'C', 'c'}"
            ]
          },
          "metadata": {},
          "execution_count": 33
        }
      ]
    },
    {
      "cell_type": "markdown",
      "source": [
        "## Comparing Sets"
      ],
      "metadata": {
        "id": "MwyzZt0cfmQK"
      }
    },
    {
      "cell_type": "code",
      "source": [
        "# show common items in set 1 and set 2\n",
        "s1 = {1,2,3}\n",
        "s2 = {2,3,4}\n",
        "s1.intersection(s2)"
      ],
      "metadata": {
        "colab": {
          "base_uri": "https://localhost:8080/"
        },
        "id": "zgtHKN9VABY2",
        "outputId": "6d993c50-42e5-478f-c78b-f4745e8f3421"
      },
      "execution_count": 34,
      "outputs": [
        {
          "output_type": "execute_result",
          "data": {
            "text/plain": [
              "{2, 3}"
            ]
          },
          "metadata": {},
          "execution_count": 34
        }
      ]
    },
    {
      "cell_type": "code",
      "source": [
        "# show everything in set 1 and set 2\n",
        "s1.union(s2)"
      ],
      "metadata": {
        "colab": {
          "base_uri": "https://localhost:8080/"
        },
        "id": "73a3vifBAh9K",
        "outputId": "a20d4790-d895-493c-a15a-3a49dad4026d"
      },
      "execution_count": 35,
      "outputs": [
        {
          "output_type": "execute_result",
          "data": {
            "text/plain": [
              "{1, 2, 3, 4}"
            ]
          },
          "metadata": {},
          "execution_count": 35
        }
      ]
    },
    {
      "cell_type": "code",
      "source": [
        "# difference between s1 and s2\n",
        "s1.difference(s2)"
      ],
      "metadata": {
        "colab": {
          "base_uri": "https://localhost:8080/"
        },
        "id": "hN_hglk0Awki",
        "outputId": "c43dfae7-2b96-413d-9384-df58857db77b"
      },
      "execution_count": 36,
      "outputs": [
        {
          "output_type": "execute_result",
          "data": {
            "text/plain": [
              "{1}"
            ]
          },
          "metadata": {},
          "execution_count": 36
        }
      ]
    },
    {
      "cell_type": "code",
      "source": [
        "# check if one set is a subset of another set\n",
        "s4 = {1, 2, 3, 5}\n",
        "s1.issubset(s4)"
      ],
      "metadata": {
        "colab": {
          "base_uri": "https://localhost:8080/"
        },
        "id": "wMkx0hh4BAS5",
        "outputId": "72cca243-0a1f-48af-8191-a77e2c5e775c"
      },
      "execution_count": 37,
      "outputs": [
        {
          "output_type": "execute_result",
          "data": {
            "text/plain": [
              "True"
            ]
          },
          "metadata": {},
          "execution_count": 37
        }
      ]
    },
    {
      "cell_type": "code",
      "source": [
        "# check if one set is a superset of another set\n",
        "s4.issuperset(s1)"
      ],
      "metadata": {
        "colab": {
          "base_uri": "https://localhost:8080/"
        },
        "id": "gOjVO0LLBgk9",
        "outputId": "40fb56ac-2440-4ed8-eb06-a743a4c15ea2"
      },
      "execution_count": 38,
      "outputs": [
        {
          "output_type": "execute_result",
          "data": {
            "text/plain": [
              "True"
            ]
          },
          "metadata": {},
          "execution_count": 38
        }
      ]
    },
    {
      "cell_type": "markdown",
      "source": [
        "## Type Casting"
      ],
      "metadata": {
        "id": "-HZEgXN4f3HV"
      }
    },
    {
      "cell_type": "code",
      "source": [
        "# type casting set into list\n",
        "print(s4)\n",
        "l1 = list(s4)\n",
        "print(l1)"
      ],
      "metadata": {
        "colab": {
          "base_uri": "https://localhost:8080/"
        },
        "id": "a38Yhb2vBvSx",
        "outputId": "5264ad3f-8731-4259-e21e-e0e844e076ec"
      },
      "execution_count": null,
      "outputs": [
        {
          "output_type": "stream",
          "name": "stdout",
          "text": [
            "{1, 2, 3, 5}\n",
            "[1, 2, 3, 5]\n"
          ]
        }
      ]
    },
    {
      "cell_type": "code",
      "source": [
        "# Using unique features of different datatypes to get desired outcome\n",
        "l1 = ['a', 'a', 'a', 'A', 'b', 'B', 'c', 'C']\n",
        "print(l1)\n",
        "\n",
        "l2 = list(set(l1)) # use unique features of set to remove duplicates\n",
        "print(l2)"
      ],
      "metadata": {
        "colab": {
          "base_uri": "https://localhost:8080/"
        },
        "id": "6PLMEJ17B96M",
        "outputId": "8b22de37-1753-4107-da0e-8016b17d27a2"
      },
      "execution_count": 40,
      "outputs": [
        {
          "output_type": "stream",
          "name": "stdout",
          "text": [
            "['a', 'a', 'a', 'A', 'b', 'B', 'c', 'C']\n",
            "['A', 'b', 'a', 'c', 'C', 'B']\n"
          ]
        }
      ]
    },
    {
      "cell_type": "markdown",
      "source": [
        "# Tuples\n",
        "- **Ordered**\n",
        "- **Indexed**\n",
        "- Not **mutable**\n",
        "\n",
        "[Tuple Methods](https://www.w3schools.com/python/python_ref_tuple.asp)"
      ],
      "metadata": {
        "id": "FKBPi9HFCpVZ"
      }
    },
    {
      "cell_type": "code",
      "source": [
        "# create a tuple\n",
        "tup = (2, 1, 4, 3)\n",
        "tup"
      ],
      "metadata": {
        "colab": {
          "base_uri": "https://localhost:8080/"
        },
        "id": "6aKb73jBCTSc",
        "outputId": "348347ec-336b-4a03-c3a0-5bc6cb3e3162"
      },
      "execution_count": 45,
      "outputs": [
        {
          "output_type": "execute_result",
          "data": {
            "text/plain": [
              "(2, 1, 4, 3)"
            ]
          },
          "metadata": {},
          "execution_count": 45
        }
      ]
    },
    {
      "cell_type": "code",
      "source": [
        "# getting index 0 of tuple\n",
        "tup[-1]"
      ],
      "metadata": {
        "colab": {
          "base_uri": "https://localhost:8080/"
        },
        "id": "mpFPSPemVa1M",
        "outputId": "f7fdd552-4c8a-4d4b-9a54-62997ca25777"
      },
      "execution_count": 42,
      "outputs": [
        {
          "output_type": "execute_result",
          "data": {
            "text/plain": [
              "3"
            ]
          },
          "metadata": {},
          "execution_count": 42
        }
      ]
    },
    {
      "cell_type": "code",
      "source": [
        "# cannot reassign value to a tuple\n",
        "tup[0] = 3"
      ],
      "metadata": {
        "colab": {
          "base_uri": "https://localhost:8080/",
          "height": 184
        },
        "id": "c3UBPtclC24U",
        "outputId": "5c23db2a-e39e-4729-ff69-670368ce44b1"
      },
      "execution_count": 43,
      "outputs": [
        {
          "output_type": "error",
          "ename": "TypeError",
          "evalue": "ignored",
          "traceback": [
            "\u001b[0;31m---------------------------------------------------------------------------\u001b[0m",
            "\u001b[0;31mTypeError\u001b[0m                                 Traceback (most recent call last)",
            "\u001b[0;32m<ipython-input-43-e4cfbc5cc45b>\u001b[0m in \u001b[0;36m<cell line: 2>\u001b[0;34m()\u001b[0m\n\u001b[1;32m      1\u001b[0m \u001b[0;31m# cannot reassign value to a tuple\u001b[0m\u001b[0;34m\u001b[0m\u001b[0;34m\u001b[0m\u001b[0m\n\u001b[0;32m----> 2\u001b[0;31m \u001b[0mtup\u001b[0m\u001b[0;34m[\u001b[0m\u001b[0;36m0\u001b[0m\u001b[0;34m]\u001b[0m \u001b[0;34m=\u001b[0m \u001b[0;36m3\u001b[0m\u001b[0;34m\u001b[0m\u001b[0;34m\u001b[0m\u001b[0m\n\u001b[0m",
            "\u001b[0;31mTypeError\u001b[0m: 'tuple' object does not support item assignment"
          ]
        }
      ]
    },
    {
      "cell_type": "code",
      "source": [
        "# concatenate 2 tuples\n",
        "tup += (5, 6)\n",
        "tup"
      ],
      "metadata": {
        "colab": {
          "base_uri": "https://localhost:8080/"
        },
        "id": "MulZ82boC6mr",
        "outputId": "4691e8e4-21d6-49b3-f309-e34398b608c7"
      },
      "execution_count": 46,
      "outputs": [
        {
          "output_type": "execute_result",
          "data": {
            "text/plain": [
              "(2, 1, 4, 3, 5, 6)"
            ]
          },
          "metadata": {},
          "execution_count": 46
        }
      ]
    },
    {
      "cell_type": "code",
      "source": [
        "# count the number of items inside a tuple\n",
        "tup2 = ('one', 'three', 'five', 'two', 'two')\n",
        "tup2.count('two')"
      ],
      "metadata": {
        "colab": {
          "base_uri": "https://localhost:8080/"
        },
        "id": "nJ7bUCYYDoMo",
        "outputId": "a0bf99be-1ca0-4133-91d7-cf33e2e0b977"
      },
      "execution_count": 49,
      "outputs": [
        {
          "output_type": "execute_result",
          "data": {
            "text/plain": [
              "2"
            ]
          },
          "metadata": {},
          "execution_count": 49
        }
      ]
    },
    {
      "cell_type": "code",
      "source": [
        "# find index of first item\n",
        "tup2.index('two')"
      ],
      "metadata": {
        "colab": {
          "base_uri": "https://localhost:8080/"
        },
        "id": "fDrhKbSNDz27",
        "outputId": "3fbf538f-4845-4f08-9c2d-d896bf17470a"
      },
      "execution_count": 50,
      "outputs": [
        {
          "output_type": "execute_result",
          "data": {
            "text/plain": [
              "3"
            ]
          },
          "metadata": {},
          "execution_count": 50
        }
      ]
    },
    {
      "cell_type": "markdown",
      "source": [
        "## Using Tuples for Parallel Processing"
      ],
      "metadata": {
        "id": "Jm201F3LhUN9"
      }
    },
    {
      "cell_type": "code",
      "source": [
        "# tuple unpacking\n",
        "fruit_tup =('apple', 'banana')\n",
        "print(fruit_tup)\n",
        "\n",
        "fruit_1, fruit_2 = fruit_tup\n",
        "print(fruit_1)\n",
        "print(fruit_2)"
      ],
      "metadata": {
        "colab": {
          "base_uri": "https://localhost:8080/"
        },
        "id": "of2SF3BwEMra",
        "outputId": "e9503a64-7fb0-461b-95b8-6fef5242a8fa"
      },
      "execution_count": 51,
      "outputs": [
        {
          "output_type": "stream",
          "name": "stdout",
          "text": [
            "('apple', 'banana')\n",
            "apple\n",
            "banana\n"
          ]
        }
      ]
    },
    {
      "cell_type": "code",
      "source": [
        "# zipping 2 lists of identical length into tuples for parellel processing\n",
        "names = ['Bob', 'Alex', 'Tammy']\n",
        "scores = [100, 40, 60]\n",
        "\n",
        "print(\"Use index:\")\n",
        "for tup in zip(names, scores):\n",
        "  print(tup[0], ':', tup[1])\n",
        "print()\n",
        "\n",
        "print(\"Use tuple unpacking:\")\n",
        "for n, s in zip(names, scores):\n",
        "  print(n, ':', s)"
      ],
      "metadata": {
        "colab": {
          "base_uri": "https://localhost:8080/"
        },
        "id": "hJGE22bZElr3",
        "outputId": "98450b39-d5d7-4f44-f49b-78a6f199f7bf"
      },
      "execution_count": 53,
      "outputs": [
        {
          "output_type": "stream",
          "name": "stdout",
          "text": [
            "Use index:\n",
            "Bob : 100\n",
            "Alex : 40\n",
            "Tammy : 60\n",
            "\n",
            "Use tuple unpacking:\n",
            "Bob : 100\n",
            "Alex : 40\n",
            "Tammy : 60\n"
          ]
        }
      ]
    },
    {
      "cell_type": "code",
      "source": [
        "# zipping group items of lists into tuples base on the index\n",
        "age = [12, 13, 10]\n",
        "\n",
        "for i in zip(names, scores, age):\n",
        "  print(i)"
      ],
      "metadata": {
        "colab": {
          "base_uri": "https://localhost:8080/"
        },
        "id": "wA7gZKx0FVmE",
        "outputId": "2e0f36dd-f8d2-4f3e-f1f4-636d7d9e10bd"
      },
      "execution_count": 55,
      "outputs": [
        {
          "output_type": "stream",
          "name": "stdout",
          "text": [
            "('Bob', 100, 12)\n",
            "('Alex', 40, 13)\n",
            "('Tammy', 60, 10)\n"
          ]
        }
      ]
    },
    {
      "cell_type": "code",
      "source": [
        "# unzipping zipped lists\n",
        "z1 = zip(names, scores)\n",
        "l1, l2 = zip(*z1)\n",
        "print(l1, l2)"
      ],
      "metadata": {
        "colab": {
          "base_uri": "https://localhost:8080/"
        },
        "id": "i_xcpnK6FwtZ",
        "outputId": "5849c8f2-07d4-4c1e-911f-59af17bd55bf"
      },
      "execution_count": 56,
      "outputs": [
        {
          "output_type": "stream",
          "name": "stdout",
          "text": [
            "('Bob', 'Alex', 'Tammy') (100, 40, 60)\n"
          ]
        }
      ]
    },
    {
      "cell_type": "markdown",
      "source": [
        "# Dictionary\n",
        "- **Ordered**\n",
        "- Not **indexed**\n",
        "- **Mutable**\n",
        "\n",
        "[Dictionary Methods](https://www.w3schools.com/python/python_ref_dictionary.asp)"
      ],
      "metadata": {
        "id": "ak2APrjvGykq"
      }
    },
    {
      "cell_type": "code",
      "source": [
        "# create a dictionary\n",
        "dict1 = {'Name': 'John', 'Age': 25, 'Home': 'Brooklyn', 'Jobs': {'Name': 'Instructor', 'Years': 10}, 'Hobbies': ['Skiing', 'Movies', 'Karaoke']}\n",
        "dict1"
      ],
      "metadata": {
        "colab": {
          "base_uri": "https://localhost:8080/"
        },
        "id": "5GY8JPJOGIjh",
        "outputId": "757f1d02-62d8-4cbc-c773-e96ad91bb983"
      },
      "execution_count": 57,
      "outputs": [
        {
          "output_type": "execute_result",
          "data": {
            "text/plain": [
              "{'Name': 'John',\n",
              " 'Age': 25,\n",
              " 'Home': 'Brooklyn',\n",
              " 'Jobs': {'Name': 'Instructor', 'Years': 10},\n",
              " 'Hobbies': ['Skiing', 'Movies', 'Karaoke']}"
            ]
          },
          "metadata": {},
          "execution_count": 57
        }
      ]
    },
    {
      "cell_type": "code",
      "source": [
        "# get value using key\n",
        "print(dict1['Jobs'])\n",
        "print(dict1['Jobs']['Name'])\n",
        "print(dict1['Hobbies'][0])"
      ],
      "metadata": {
        "colab": {
          "base_uri": "https://localhost:8080/"
        },
        "id": "hTu2Q_FnXM8Z",
        "outputId": "a393156a-b0cd-4a16-c5c5-8c87af7eb711"
      },
      "execution_count": 59,
      "outputs": [
        {
          "output_type": "stream",
          "name": "stdout",
          "text": [
            "{'Name': 'Instructor', 'Years': 10}\n",
            "Instructor\n",
            "Skiing\n"
          ]
        }
      ]
    },
    {
      "cell_type": "code",
      "source": [
        "# changing value of a key\n",
        "dict1['Name'] = 'Bob Bobby'\n",
        "dict1"
      ],
      "metadata": {
        "colab": {
          "base_uri": "https://localhost:8080/"
        },
        "id": "fxxte-eRHQmH",
        "outputId": "8b66ddd2-5ce1-4e2d-9496-534cade89db7"
      },
      "execution_count": 60,
      "outputs": [
        {
          "output_type": "execute_result",
          "data": {
            "text/plain": [
              "{'Name': 'Bob Bobby',\n",
              " 'Age': 25,\n",
              " 'Home': 'Brooklyn',\n",
              " 'Jobs': {'Name': 'Instructor', 'Years': 10},\n",
              " 'Hobbies': ['Skiing', 'Movies', 'Karaoke']}"
            ]
          },
          "metadata": {},
          "execution_count": 60
        }
      ]
    },
    {
      "cell_type": "code",
      "source": [
        "# adding key, value pair into a list\n",
        "dict1['Birthday'] = 'June 10, 2023'\n",
        "dict1"
      ],
      "metadata": {
        "colab": {
          "base_uri": "https://localhost:8080/"
        },
        "id": "-5134ScYHemE",
        "outputId": "fab5b069-6710-4794-c1df-2970335efa49"
      },
      "execution_count": 61,
      "outputs": [
        {
          "output_type": "execute_result",
          "data": {
            "text/plain": [
              "{'Name': 'Bob Bobby',\n",
              " 'Age': 25,\n",
              " 'Home': 'Brooklyn',\n",
              " 'Jobs': {'Name': 'Instructor', 'Years': 10},\n",
              " 'Hobbies': ['Skiing', 'Movies', 'Karaoke'],\n",
              " 'Birthday': 'June 10, 2023'}"
            ]
          },
          "metadata": {},
          "execution_count": 61
        }
      ]
    },
    {
      "cell_type": "code",
      "source": [
        "# remove key, value pair usinig the key\n",
        "dict1.pop('Home')\n",
        "dict1"
      ],
      "metadata": {
        "colab": {
          "base_uri": "https://localhost:8080/"
        },
        "id": "XeWDczpjIGUa",
        "outputId": "ffc907fc-a14a-4486-886f-d10fb44354b8"
      },
      "execution_count": 62,
      "outputs": [
        {
          "output_type": "execute_result",
          "data": {
            "text/plain": [
              "{'Name': 'Bob Bobby',\n",
              " 'Age': 25,\n",
              " 'Jobs': {'Name': 'Instructor', 'Years': 10},\n",
              " 'Hobbies': ['Skiing', 'Movies', 'Karaoke'],\n",
              " 'Birthday': 'June 10, 2023'}"
            ]
          },
          "metadata": {},
          "execution_count": 62
        }
      ]
    },
    {
      "cell_type": "code",
      "source": [
        "# find all the keys in the dictionary\n",
        "print(type(dict1.keys()))\n",
        "print(dict1.keys())"
      ],
      "metadata": {
        "colab": {
          "base_uri": "https://localhost:8080/"
        },
        "id": "-aFiCHmCIbwv",
        "outputId": "04cc774a-d20b-4f14-de08-8f75f0d4b4c5"
      },
      "execution_count": 64,
      "outputs": [
        {
          "output_type": "stream",
          "name": "stdout",
          "text": [
            "<class 'dict_keys'>\n",
            "dict_keys(['Name', 'Age', 'Jobs', 'Hobbies', 'Birthday'])\n"
          ]
        }
      ]
    },
    {
      "cell_type": "code",
      "source": [
        "# find all the values inside a dictionary\n",
        "l1 = list(dict1.values())\n",
        "print(type(dict1.values()))\n",
        "print(dict1.values())\n",
        "print(l1)"
      ],
      "metadata": {
        "colab": {
          "base_uri": "https://localhost:8080/"
        },
        "id": "nafOVuuzIo-C",
        "outputId": "793f99dd-233f-4170-809b-c22a9a0b2ad8"
      },
      "execution_count": 67,
      "outputs": [
        {
          "output_type": "stream",
          "name": "stdout",
          "text": [
            "<class 'dict_values'>\n",
            "dict_values(['Bob Bobby', 25, {'Name': 'Instructor', 'Years': 10}, ['Skiing', 'Movies', 'Karaoke'], 'June 10, 2023'])\n",
            "['Bob Bobby', 25, {'Name': 'Instructor', 'Years': 10}, ['Skiing', 'Movies', 'Karaoke'], 'June 10, 2023']\n"
          ]
        }
      ]
    },
    {
      "cell_type": "code",
      "source": [
        "# find every key, value pair in the dictionary\n",
        "print(dict1.items())\n",
        "print(list(dict1.items())[0])"
      ],
      "metadata": {
        "colab": {
          "base_uri": "https://localhost:8080/"
        },
        "id": "JiDm7O23Iw6g",
        "outputId": "b5031130-e243-45d7-cb23-adaca89fd19d"
      },
      "execution_count": 69,
      "outputs": [
        {
          "output_type": "stream",
          "name": "stdout",
          "text": [
            "dict_items([('Name', 'Bob Bobby'), ('Age', 25), ('Jobs', {'Name': 'Instructor', 'Years': 10}), ('Hobbies', ['Skiing', 'Movies', 'Karaoke']), ('Birthday', 'June 10, 2023')])\n",
            "('Name', 'Bob Bobby')\n"
          ]
        }
      ]
    },
    {
      "cell_type": "code",
      "source": [
        "# accessing the keys of nested dictionary\n",
        "list(dict1.values())[2].keys()"
      ],
      "metadata": {
        "colab": {
          "base_uri": "https://localhost:8080/"
        },
        "id": "W2-3Q9KVkPQr",
        "outputId": "3eb0ca9f-5758-487d-ade5-07e4b4a74cfc"
      },
      "execution_count": 71,
      "outputs": [
        {
          "output_type": "execute_result",
          "data": {
            "text/plain": [
              "dict_keys(['Name', 'Years'])"
            ]
          },
          "metadata": {},
          "execution_count": 71
        }
      ]
    },
    {
      "cell_type": "code",
      "source": [
        "# use fromkeys() method to create dictionary with list\n",
        "names = ['Bob', 'Alex', 'Tammy']\n",
        "val = 'Haha'\n",
        "dict_of_names = dict.fromkeys(names, val)\n",
        "dict_of_names"
      ],
      "metadata": {
        "colab": {
          "base_uri": "https://localhost:8080/"
        },
        "id": "EUnNJ6IvJWj-",
        "outputId": "a8bbede4-3063-4580-82c7-15d929005945"
      },
      "execution_count": null,
      "outputs": [
        {
          "output_type": "execute_result",
          "data": {
            "text/plain": [
              "{'Bob': 'Haha', 'Alex': 'Haha', 'Tammy': 'Haha'}"
            ]
          },
          "metadata": {},
          "execution_count": 58
        }
      ]
    },
    {
      "cell_type": "markdown",
      "source": [
        "# Class Excercise: Student Database\n",
        "**Instructions**\n",
        "1. Create an empty dictionary `student_db` to act as a database for students\n",
        "2. Implement a function `add_student()` that adds a new student to the database. The function takes in `database`, `id`, `name`, `grade` as arguments. Use `id` as the dictionary key and store `name`, `grade` as a tuple for the dictionary value.\n",
        "\n",
        "  - `database`: Your student database\n",
        "  - `id`: dictionary keys: Unique identifier for each student\n",
        "  - `name`: String, student's name\n",
        "  - `grade` float, their current grade level\n",
        "\n",
        "  ** `name` and `grade` should be stored in a single dictionary value as a tuple\n",
        "3. Implement a function `get_student()` that retrieves the information of a student by their ID. It should take in 2 arguments `database`, `id` and it should return the student's name and grade\n",
        "4. Implement a function `display_students()` that displays a list of all students in the database. It should take in 1 argument `database`. The list should include the student ID, name, and grade."
      ],
      "metadata": {
        "id": "6JERf6eV3iNN"
      }
    },
    {
      "cell_type": "code",
      "source": [
        "# your code goes here\n"
      ],
      "metadata": {
        "id": "LJwuyOnx3m3x"
      },
      "execution_count": 73,
      "outputs": []
    },
    {
      "cell_type": "code",
      "source": [
        "# @title Kang's Implementation\n",
        "\n",
        "def add_student(db: dict, id: int, name: str, grade: float):\n",
        "  db[id] = (name, grade)\n",
        "\n",
        "def get_student(db: dict, id: int):\n",
        "  student = db.get(id)\n",
        "  if student != None:\n",
        "    return student[0], student[1]\n",
        "  raise Exception(f'No student with id = {id}. Last id of student is {list(db.keys())[-1]}')\n",
        "\n",
        "def display_students(db: dict):\n",
        "  print('================')\n",
        "  print('Student Database')\n",
        "  print('================')\n",
        "  for id, student in db.items():\n",
        "    print('id:', id)\n",
        "    print('name:', student[0])\n",
        "    print('grade:', student[1])\n",
        "    print('----------------')"
      ],
      "metadata": {
        "cellView": "form",
        "id": "5el7Ihjn53VT"
      },
      "execution_count": 76,
      "outputs": []
    },
    {
      "cell_type": "markdown",
      "source": [
        "### Test Your Code"
      ],
      "metadata": {
        "id": "Ow4ILXw1cnQp"
      }
    },
    {
      "cell_type": "code",
      "source": [
        "student_db = {}\n",
        "\n",
        "add_student(student_db, 0, 'Bob', 60)\n",
        "add_student(student_db, 1, 'Alice', 85.5)\n",
        "add_student(student_db, 2, 'Max', 76)\n",
        "\n",
        "student, grade = get_student(student_db, 2)\n",
        "# s1, g1 = get_student(student_db, 3)  # will raise error\n",
        "print(student, grade)\n",
        "print()\n",
        "\n",
        "display_students(student_db)"
      ],
      "metadata": {
        "id": "y6rOZLRd56sH"
      },
      "execution_count": null,
      "outputs": []
    },
    {
      "cell_type": "markdown",
      "source": [
        "# **Class Survey**\n",
        "\n",
        "Directly below is a link to a survey that lets us know how we're doing and any additional feedback you might have. Please take some time to fill out the survey in full so that we can learn how to better serve you.\n",
        "\n",
        "[**Survey Link**](https://docs.google.com/forms/d/e/1FAIpQLSeRoFsj9kC436jyBuImwv2QToGSYYZDo1SygTEnsQ-k3ozHng/viewform)"
      ],
      "metadata": {
        "id": "VYX_X84Ro0Rz"
      }
    }
  ]
}