{
  "nbformat": 4,
  "nbformat_minor": 0,
  "metadata": {
    "colab": {
      "provenance": [],
      "toc_visible": true,
      "collapsed_sections": [
        "3wMke8JpPTHm",
        "Jm201F3LhUN9",
        "lhrccq-XSZKk"
      ],
      "authorship_tag": "ABX9TyMSYOyY0teDkFHYFfBTs/sY",
      "include_colab_link": true
    },
    "kernelspec": {
      "name": "python3",
      "display_name": "Python 3"
    },
    "language_info": {
      "name": "python"
    }
  },
  "cells": [
    {
      "cell_type": "markdown",
      "metadata": {
        "id": "view-in-github",
        "colab_type": "text"
      },
      "source": [
        "<a href=\"https://colab.research.google.com/github/kchenTTP/python-containers/blob/main/Python_Container_Datatypes_Starter.ipynb\" target=\"_parent\"><img src=\"https://colab.research.google.com/assets/colab-badge.svg\" alt=\"Open In Colab\"/></a>"
      ]
    },
    {
      "cell_type": "markdown",
      "source": [
        "# **Python Container DataTypes**\n",
        "\n",
        "Container datatypes are built-in data structures that hold collections of other objects. They are used to store and organize multiple values in a single variable. We will go through 4 most common Python container Datatypes"
      ],
      "metadata": {
        "id": "E_MyVJKDQsHe"
      }
    },
    {
      "cell_type": "markdown",
      "source": [
        "# Keywords & Definition\n",
        "\n",
        "**Methods**: Functions that are associated with a class or its instances (objects)\n",
        "\n",
        "**Order**: An ordered data structure maintains the sequence or order in which the elements were added or defined\n",
        "\n",
        "**Index**: Index-based data structures allow accessing elements based on their position or index.\n",
        "\n",
        "**Mutable**: Mutable objects can be modified or changed after they are created"
      ],
      "metadata": {
        "id": "WHsJ-ciVQ2pF"
      }
    },
    {
      "cell_type": "markdown",
      "source": [
        "# Lists\n",
        "- [x] **Ordered**\n",
        "- [x] **Indexed**\n",
        "- [x] **Mutable**\n",
        "\n",
        "[List Methods](https://www.w3schools.com/python/python_ref_list.asp)"
      ],
      "metadata": {
        "id": "0epx0-j50vst"
      }
    },
    {
      "cell_type": "code",
      "source": [
        "# create a list of colors\n",
        "colors_list = ['red', 'yellow', 'blue', 'orange', 'green', 'purple']\n",
        "colors_list"
      ],
      "metadata": {
        "id": "GYSgDFTFz5yD",
        "colab": {
          "base_uri": "https://localhost:8080/"
        },
        "outputId": "ce151185-bbd6-454c-dea1-8497e186dbe3"
      },
      "execution_count": null,
      "outputs": [
        {
          "output_type": "execute_result",
          "data": {
            "text/plain": [
              "['red', 'yellow', 'blue', 'orange', 'green', 'purple']"
            ]
          },
          "metadata": {},
          "execution_count": 10
        }
      ]
    },
    {
      "cell_type": "markdown",
      "source": [
        "## Index Slicing"
      ],
      "metadata": {
        "id": "a9dJgVAP0q7v"
      }
    },
    {
      "cell_type": "code",
      "source": [
        "# index Slicing\n",
        "print(colors_list[0])\n",
        "print(colors_list[-2])\n",
        "print(colors_list[1:4])\n",
        "print(colors_list[1:])\n",
        "print(colors_list[:4])\n",
        "print(colors_list[-4:-2])"
      ],
      "metadata": {
        "colab": {
          "base_uri": "https://localhost:8080/"
        },
        "id": "j5F3-8_K1ANV",
        "outputId": "96179bf1-aa9c-4ec7-8e84-7d99bce4b711"
      },
      "execution_count": null,
      "outputs": [
        {
          "output_type": "stream",
          "name": "stdout",
          "text": [
            "red\n",
            "green\n",
            "['yellow', 'blue', 'orange']\n",
            "['yellow', 'blue', 'orange', 'green', 'purple']\n",
            "['red', 'yellow', 'blue', 'orange']\n",
            "['blue', 'orange']\n"
          ]
        }
      ]
    },
    {
      "cell_type": "code",
      "source": [
        "# reassign values in list\n",
        "colors_list[0] = 'teal'\n",
        "colors_list"
      ],
      "metadata": {
        "colab": {
          "base_uri": "https://localhost:8080/"
        },
        "id": "81jSsYEP3mMC",
        "outputId": "ad4ef392-6ee4-41bb-dd7e-7dada683eac4"
      },
      "execution_count": null,
      "outputs": [
        {
          "output_type": "execute_result",
          "data": {
            "text/plain": [
              "['teal', 'yellow', 'blue', 'orange', 'green', 'purple']"
            ]
          },
          "metadata": {},
          "execution_count": 12
        }
      ]
    },
    {
      "cell_type": "markdown",
      "source": [
        "## List Methods"
      ],
      "metadata": {
        "id": "RvLmz1ku1E_5"
      }
    },
    {
      "cell_type": "code",
      "source": [
        "# append method add item to the end of list\n",
        "colors_list.append('violet')\n",
        "colors_list"
      ],
      "metadata": {
        "colab": {
          "base_uri": "https://localhost:8080/"
        },
        "id": "CXwZuwXj30c-",
        "outputId": "05af190b-5950-403b-a9f7-7b38d7d8d7b5"
      },
      "execution_count": null,
      "outputs": [
        {
          "output_type": "execute_result",
          "data": {
            "text/plain": [
              "['teal', 'yellow', 'blue', 'orange', 'green', 'purple', 'violet']"
            ]
          },
          "metadata": {},
          "execution_count": 13
        }
      ]
    },
    {
      "cell_type": "code",
      "source": [
        "# pop method remove last item in list\n",
        "colors_list.pop()\n",
        "colors_list"
      ],
      "metadata": {
        "colab": {
          "base_uri": "https://localhost:8080/"
        },
        "id": "3Hfc9Y3V4TqF",
        "outputId": "656050c6-178a-42e6-8d79-eb2a224e7103"
      },
      "execution_count": null,
      "outputs": [
        {
          "output_type": "execute_result",
          "data": {
            "text/plain": [
              "['teal', 'yellow', 'blue', 'orange', 'green', 'purple']"
            ]
          },
          "metadata": {},
          "execution_count": 14
        }
      ]
    },
    {
      "cell_type": "code",
      "source": [
        "# pop specific index\n",
        "colors_list.pop(3)\n",
        "colors_list"
      ],
      "metadata": {
        "colab": {
          "base_uri": "https://localhost:8080/"
        },
        "id": "1k2JLqA44tVf",
        "outputId": "dcc6ac8d-522c-4a59-b1bd-d9d1f136b95e"
      },
      "execution_count": null,
      "outputs": [
        {
          "output_type": "execute_result",
          "data": {
            "text/plain": [
              "['teal', 'yellow', 'blue', 'green', 'purple']"
            ]
          },
          "metadata": {},
          "execution_count": 15
        }
      ]
    },
    {
      "cell_type": "code",
      "source": [
        "# combine list with + operator\n",
        "list_1 = [1, 2, 3]\n",
        "list_2 = [4, 5, 6]\n",
        "list_1 += list_2\n",
        "print(list_1)"
      ],
      "metadata": {
        "id": "KUou7-c74vVk",
        "colab": {
          "base_uri": "https://localhost:8080/"
        },
        "outputId": "8dd88a0d-4d5c-4825-9045-3c6a3f3efbd3"
      },
      "execution_count": null,
      "outputs": [
        {
          "output_type": "stream",
          "name": "stdout",
          "text": [
            "[1, 2, 3, 4, 5, 6]\n"
          ]
        }
      ]
    },
    {
      "cell_type": "code",
      "source": [
        "# insert item into idex 2\n",
        "colors_list.insert(2, 'mauve')\n",
        "colors_list"
      ],
      "metadata": {
        "id": "nYw6N4oh5HtM",
        "colab": {
          "base_uri": "https://localhost:8080/"
        },
        "outputId": "dbf78ecd-3d3b-4898-ae32-0c709a788797"
      },
      "execution_count": null,
      "outputs": [
        {
          "output_type": "execute_result",
          "data": {
            "text/plain": [
              "['teal', 'yellow', 'mauve', 'blue', 'green', 'purple']"
            ]
          },
          "metadata": {},
          "execution_count": 17
        }
      ]
    },
    {
      "cell_type": "code",
      "source": [
        "# sort a list of strings\n",
        "colors_list.sort()\n",
        "print(colors_list)\n",
        "\n",
        "# sort a list of numbers\n",
        "num_list = [3, 2, 5, 1]\n",
        "num_list.sort()\n",
        "print(num_list)"
      ],
      "metadata": {
        "colab": {
          "base_uri": "https://localhost:8080/"
        },
        "id": "-16dzjdz5iAk",
        "outputId": "60a483f3-fa44-40d9-c2d4-b343440a4607"
      },
      "execution_count": null,
      "outputs": [
        {
          "output_type": "stream",
          "name": "stdout",
          "text": [
            "['blue', 'green', 'mauve', 'purple', 'teal', 'yellow']\n",
            "[1, 2, 3, 5]\n"
          ]
        }
      ]
    },
    {
      "cell_type": "code",
      "source": [
        "# check if item in list\n",
        "print('brown' in colors_list)\n",
        "print('brown' not in colors_list)"
      ],
      "metadata": {
        "colab": {
          "base_uri": "https://localhost:8080/"
        },
        "id": "JjpDENTq6sI8",
        "outputId": "f1e7f222-2baa-45d5-e6aa-6f5410742fd8"
      },
      "execution_count": null,
      "outputs": [
        {
          "output_type": "stream",
          "name": "stdout",
          "text": [
            "False\n",
            "True\n"
          ]
        }
      ]
    },
    {
      "cell_type": "code",
      "source": [
        "# looping over a list\n",
        "print(colors_list)\n",
        "print()\n",
        "\n",
        "for color in colors_list:\n",
        "  print(colors_list.index(color), color)"
      ],
      "metadata": {
        "colab": {
          "base_uri": "https://localhost:8080/"
        },
        "id": "65P9iQq269j7",
        "outputId": "5ac9a3f5-7d58-42f0-86dd-e2ae14b4055b"
      },
      "execution_count": null,
      "outputs": [
        {
          "output_type": "stream",
          "name": "stdout",
          "text": [
            "['blue', 'green', 'mauve', 'purple', 'teal', 'yellow']\n",
            "\n",
            "0 blue\n",
            "1 green\n",
            "2 mauve\n",
            "3 purple\n",
            "4 teal\n",
            "5 yellow\n"
          ]
        }
      ]
    },
    {
      "cell_type": "markdown",
      "source": [
        "## *Additional Material: List Comprehesion*"
      ],
      "metadata": {
        "id": "3wMke8JpPTHm"
      }
    },
    {
      "cell_type": "code",
      "source": [
        "new_list = []\n",
        "for num in num_list:\n",
        "  new_list.append(num**2)\n",
        "print(new_list)\n",
        "\n",
        "# list comprehension\n",
        "new_new_list = [x**2 for x in num_list]\n",
        "print(new_new_list)"
      ],
      "metadata": {
        "colab": {
          "base_uri": "https://localhost:8080/"
        },
        "id": "XbZEjIlNPbNk",
        "outputId": "a4c1f67b-27c6-4a0c-a427-50aa6288ebc2"
      },
      "execution_count": null,
      "outputs": [
        {
          "output_type": "stream",
          "name": "stdout",
          "text": [
            "[1, 4, 9, 16, 25]\n",
            "[1, 4, 9, 16, 25]\n"
          ]
        }
      ]
    },
    {
      "cell_type": "markdown",
      "source": [
        "# Sets\n",
        "A set is used to store unordered and unchangeable multiple items in a single variable\n",
        "\n",
        "- [ ] ~**Ordered**~\n",
        "- [ ] ~**Indexed**~\n",
        "- [x] **Mutable**\n",
        "\n",
        "[Set Methods](https://www.w3schools.com/python/python_ref_set.asp)"
      ],
      "metadata": {
        "id": "KW00NukW9etN"
      }
    },
    {
      "cell_type": "code",
      "source": [
        "# create a set\n",
        "s1 = {'a', 'a', 'a', 'A', 'b', 'B', 'c', 'C'}\n",
        "s1 # only saves unique items"
      ],
      "metadata": {
        "colab": {
          "base_uri": "https://localhost:8080/"
        },
        "id": "V9iPT6zU8_d6",
        "outputId": "e6043eeb-b6dc-4757-9dea-ef734d21c223"
      },
      "execution_count": null,
      "outputs": [
        {
          "output_type": "execute_result",
          "data": {
            "text/plain": [
              "{'A', 'B', 'C', 'a', 'b', 'c'}"
            ]
          },
          "metadata": {},
          "execution_count": 24
        }
      ]
    },
    {
      "cell_type": "code",
      "source": [
        "# check if item in set\n",
        "'a' in s1"
      ],
      "metadata": {
        "colab": {
          "base_uri": "https://localhost:8080/"
        },
        "id": "UsRuQoIQTfTK",
        "outputId": "103d83b6-203a-46f5-e3d6-b03ef0f5091b"
      },
      "execution_count": null,
      "outputs": [
        {
          "output_type": "execute_result",
          "data": {
            "text/plain": [
              "True"
            ]
          },
          "metadata": {},
          "execution_count": 25
        }
      ]
    },
    {
      "cell_type": "markdown",
      "source": [
        "## Set Methods"
      ],
      "metadata": {
        "id": "eah9XwRFVqvJ"
      }
    },
    {
      "cell_type": "code",
      "source": [
        "# add item to set\n",
        "s1.add('d')\n",
        "s1"
      ],
      "metadata": {
        "colab": {
          "base_uri": "https://localhost:8080/"
        },
        "id": "8LAjdW1S9tUM",
        "outputId": "fd7da9ec-21bd-4f9d-97c4-07e62c4906b0"
      },
      "execution_count": null,
      "outputs": [
        {
          "output_type": "execute_result",
          "data": {
            "text/plain": [
              "{'A', 'B', 'C', 'a', 'b', 'c', 'd'}"
            ]
          },
          "metadata": {},
          "execution_count": 26
        }
      ]
    },
    {
      "cell_type": "code",
      "source": [
        "# remove item\n",
        "s1.remove('d')\n",
        "s1"
      ],
      "metadata": {
        "colab": {
          "base_uri": "https://localhost:8080/"
        },
        "id": "IyKEBq7z-TQq",
        "outputId": "81655ccc-1e70-425e-a94e-4fcdeaeea099"
      },
      "execution_count": null,
      "outputs": [
        {
          "output_type": "execute_result",
          "data": {
            "text/plain": [
              "{'A', 'B', 'C', 'a', 'b', 'c'}"
            ]
          },
          "metadata": {},
          "execution_count": 27
        }
      ]
    },
    {
      "cell_type": "code",
      "source": [
        "# discard item\n",
        "s1.discard('b')\n",
        "print(s1)"
      ],
      "metadata": {
        "colab": {
          "base_uri": "https://localhost:8080/"
        },
        "id": "TKkKZjHc_PeI",
        "outputId": "345654bb-f2d8-4f39-819f-ed7139cea1ff"
      },
      "execution_count": null,
      "outputs": [
        {
          "output_type": "stream",
          "name": "stdout",
          "text": [
            "{'B', 'c', 'A', 'C', 'a'}\n"
          ]
        }
      ]
    },
    {
      "cell_type": "code",
      "source": [
        "# removing non-existing item\n",
        "s1.remove('d')"
      ],
      "metadata": {
        "colab": {
          "base_uri": "https://localhost:8080/",
          "height": 197
        },
        "id": "VtU1pdXb_VPr",
        "outputId": "4b68b851-d1c7-43e2-dc7f-bc6654096f49"
      },
      "execution_count": null,
      "outputs": [
        {
          "output_type": "error",
          "ename": "KeyError",
          "evalue": "'d'",
          "traceback": [
            "\u001b[0;31m---------------------------------------------------------------------------\u001b[0m",
            "\u001b[0;31mKeyError\u001b[0m                                  Traceback (most recent call last)",
            "\u001b[0;32m<ipython-input-29-2e47342b87d6>\u001b[0m in \u001b[0;36m<cell line: 2>\u001b[0;34m()\u001b[0m\n\u001b[1;32m      1\u001b[0m \u001b[0;31m# removing non-existing item\u001b[0m\u001b[0;34m\u001b[0m\u001b[0;34m\u001b[0m\u001b[0m\n\u001b[0;32m----> 2\u001b[0;31m \u001b[0ms1\u001b[0m\u001b[0;34m.\u001b[0m\u001b[0mremove\u001b[0m\u001b[0;34m(\u001b[0m\u001b[0;34m'd'\u001b[0m\u001b[0;34m)\u001b[0m\u001b[0;34m\u001b[0m\u001b[0;34m\u001b[0m\u001b[0m\n\u001b[0m",
            "\u001b[0;31mKeyError\u001b[0m: 'd'"
          ]
        }
      ]
    },
    {
      "cell_type": "code",
      "source": [
        "# discarding non-existing item\n",
        "s1.discard('d')"
      ],
      "metadata": {
        "id": "4bJUDJSB_bpX"
      },
      "execution_count": null,
      "outputs": []
    },
    {
      "cell_type": "markdown",
      "source": [
        "## Comparing Sets"
      ],
      "metadata": {
        "id": "MwyzZt0cfmQK"
      }
    },
    {
      "cell_type": "code",
      "source": [
        "# show common items in set 1 and set 2\n",
        "s1 = {1,2,3}\n",
        "s2 = {2,3,4}\n",
        "s1.intersection(s2)"
      ],
      "metadata": {
        "colab": {
          "base_uri": "https://localhost:8080/"
        },
        "id": "zgtHKN9VABY2",
        "outputId": "3fac35b8-e4e4-4b37-b445-22d85b87b155"
      },
      "execution_count": null,
      "outputs": [
        {
          "output_type": "execute_result",
          "data": {
            "text/plain": [
              "{2, 3}"
            ]
          },
          "metadata": {},
          "execution_count": 32
        }
      ]
    },
    {
      "cell_type": "code",
      "source": [
        "# show everything in set 1 and set 2\n",
        "s1.union(s2)"
      ],
      "metadata": {
        "colab": {
          "base_uri": "https://localhost:8080/"
        },
        "id": "73a3vifBAh9K",
        "outputId": "7de0191b-4317-4356-861c-8d66bf28f8d6"
      },
      "execution_count": null,
      "outputs": [
        {
          "output_type": "execute_result",
          "data": {
            "text/plain": [
              "{1, 2, 3, 4}"
            ]
          },
          "metadata": {},
          "execution_count": 33
        }
      ]
    },
    {
      "cell_type": "code",
      "source": [
        "# difference between s1 and s2\n",
        "s1.difference(s2)"
      ],
      "metadata": {
        "colab": {
          "base_uri": "https://localhost:8080/"
        },
        "id": "hN_hglk0Awki",
        "outputId": "54d0c396-0e69-4cac-8d58-f80bc7db5ed0"
      },
      "execution_count": null,
      "outputs": [
        {
          "output_type": "execute_result",
          "data": {
            "text/plain": [
              "{1}"
            ]
          },
          "metadata": {},
          "execution_count": 34
        }
      ]
    },
    {
      "cell_type": "code",
      "source": [
        "# check if one set is a subset of another set\n",
        "s4 = {1, 2, 3, 5}\n",
        "s1.issubset(s4)"
      ],
      "metadata": {
        "colab": {
          "base_uri": "https://localhost:8080/"
        },
        "id": "wMkx0hh4BAS5",
        "outputId": "f56d52bf-b403-4828-b116-49152312de14"
      },
      "execution_count": null,
      "outputs": [
        {
          "output_type": "execute_result",
          "data": {
            "text/plain": [
              "True"
            ]
          },
          "metadata": {},
          "execution_count": 35
        }
      ]
    },
    {
      "cell_type": "code",
      "source": [
        "# check if one set is a superset of another set\n",
        "s4.issuperset(s1)"
      ],
      "metadata": {
        "colab": {
          "base_uri": "https://localhost:8080/"
        },
        "id": "gOjVO0LLBgk9",
        "outputId": "5b7b3363-94ef-4f5a-aa8f-366d5a9c9f7a"
      },
      "execution_count": null,
      "outputs": [
        {
          "output_type": "execute_result",
          "data": {
            "text/plain": [
              "True"
            ]
          },
          "metadata": {},
          "execution_count": 36
        }
      ]
    },
    {
      "cell_type": "markdown",
      "source": [
        "# Tuples\n",
        "- [x] **Ordered**\n",
        "- [x] **Indexed**\n",
        "- [ ] ~**Mutable**~\n",
        "\n",
        "[Tuple Methods](https://www.w3schools.com/python/python_ref_tuple.asp)"
      ],
      "metadata": {
        "id": "FKBPi9HFCpVZ"
      }
    },
    {
      "cell_type": "code",
      "source": [
        "# create a tuple\n",
        "tup = (2, 1, 4, 3)\n",
        "tup"
      ],
      "metadata": {
        "colab": {
          "base_uri": "https://localhost:8080/"
        },
        "id": "6aKb73jBCTSc",
        "outputId": "d3334b1e-1e38-4cde-e1ac-0ddfea2655d1"
      },
      "execution_count": null,
      "outputs": [
        {
          "output_type": "execute_result",
          "data": {
            "text/plain": [
              "(2, 1, 4, 3)"
            ]
          },
          "metadata": {},
          "execution_count": 38
        }
      ]
    },
    {
      "cell_type": "code",
      "source": [
        "# getting index 0 of tuple\n",
        "tup[-1]"
      ],
      "metadata": {
        "colab": {
          "base_uri": "https://localhost:8080/"
        },
        "id": "mpFPSPemVa1M",
        "outputId": "3ed529fe-f13f-4258-e468-49167506072a"
      },
      "execution_count": null,
      "outputs": [
        {
          "output_type": "execute_result",
          "data": {
            "text/plain": [
              "3"
            ]
          },
          "metadata": {},
          "execution_count": 39
        }
      ]
    },
    {
      "cell_type": "code",
      "source": [
        "# cannot reassign value to a tuple\n",
        "tup[0] = 3"
      ],
      "metadata": {
        "colab": {
          "base_uri": "https://localhost:8080/",
          "height": 197
        },
        "id": "c3UBPtclC24U",
        "outputId": "a89dbdae-4184-4ff1-d7a7-e33fa8313267"
      },
      "execution_count": null,
      "outputs": [
        {
          "output_type": "error",
          "ename": "TypeError",
          "evalue": "'tuple' object does not support item assignment",
          "traceback": [
            "\u001b[0;31m---------------------------------------------------------------------------\u001b[0m",
            "\u001b[0;31mTypeError\u001b[0m                                 Traceback (most recent call last)",
            "\u001b[0;32m<ipython-input-40-e4cfbc5cc45b>\u001b[0m in \u001b[0;36m<cell line: 2>\u001b[0;34m()\u001b[0m\n\u001b[1;32m      1\u001b[0m \u001b[0;31m# cannot reassign value to a tuple\u001b[0m\u001b[0;34m\u001b[0m\u001b[0;34m\u001b[0m\u001b[0m\n\u001b[0;32m----> 2\u001b[0;31m \u001b[0mtup\u001b[0m\u001b[0;34m[\u001b[0m\u001b[0;36m0\u001b[0m\u001b[0;34m]\u001b[0m \u001b[0;34m=\u001b[0m \u001b[0;36m3\u001b[0m\u001b[0;34m\u001b[0m\u001b[0;34m\u001b[0m\u001b[0m\n\u001b[0m",
            "\u001b[0;31mTypeError\u001b[0m: 'tuple' object does not support item assignment"
          ]
        }
      ]
    },
    {
      "cell_type": "code",
      "source": [
        "# concatenate 2 tuples\n",
        "tup += (5, 6)\n",
        "tup"
      ],
      "metadata": {
        "colab": {
          "base_uri": "https://localhost:8080/"
        },
        "id": "MulZ82boC6mr",
        "outputId": "c4cdc72f-e2e9-4d2b-abec-397f2ec2940e"
      },
      "execution_count": null,
      "outputs": [
        {
          "output_type": "execute_result",
          "data": {
            "text/plain": [
              "(2, 1, 4, 3, 5, 6)"
            ]
          },
          "metadata": {},
          "execution_count": 41
        }
      ]
    },
    {
      "cell_type": "code",
      "source": [
        "# count the number of items inside a tuple\n",
        "tup2 = ('one', 'three', 'five', 'two', 'two')\n",
        "tup2.count('two')"
      ],
      "metadata": {
        "colab": {
          "base_uri": "https://localhost:8080/"
        },
        "id": "nJ7bUCYYDoMo",
        "outputId": "02cefb5e-3bbd-4514-c799-3e88f59adf36"
      },
      "execution_count": null,
      "outputs": [
        {
          "output_type": "execute_result",
          "data": {
            "text/plain": [
              "2"
            ]
          },
          "metadata": {},
          "execution_count": 42
        }
      ]
    },
    {
      "cell_type": "code",
      "source": [
        "# find index of first item\n",
        "tup2.index('two')"
      ],
      "metadata": {
        "colab": {
          "base_uri": "https://localhost:8080/"
        },
        "id": "fDrhKbSNDz27",
        "outputId": "5bb5eb62-2ebf-4443-b980-d31dc3c2e1b0"
      },
      "execution_count": null,
      "outputs": [
        {
          "output_type": "execute_result",
          "data": {
            "text/plain": [
              "3"
            ]
          },
          "metadata": {},
          "execution_count": 43
        }
      ]
    },
    {
      "cell_type": "markdown",
      "source": [
        "## *Additional Material: Using Tuples for Parallel Processing*"
      ],
      "metadata": {
        "id": "Jm201F3LhUN9"
      }
    },
    {
      "cell_type": "code",
      "source": [
        "# tuple unpacking\n",
        "fruit_tup =('apple', 'banana')\n",
        "print(fruit_tup)\n",
        "\n",
        "fruit_1, fruit_2 = fruit_tup\n",
        "print(fruit_1)\n",
        "print(fruit_2)"
      ],
      "metadata": {
        "colab": {
          "base_uri": "https://localhost:8080/"
        },
        "id": "of2SF3BwEMra",
        "outputId": "e9503a64-7fb0-461b-95b8-6fef5242a8fa"
      },
      "execution_count": null,
      "outputs": [
        {
          "output_type": "stream",
          "name": "stdout",
          "text": [
            "('apple', 'banana')\n",
            "apple\n",
            "banana\n"
          ]
        }
      ]
    },
    {
      "cell_type": "code",
      "source": [
        "# zipping 2 lists of identical length into tuples for parellel processing\n",
        "names = ['Bob', 'Alex', 'Tammy']\n",
        "scores = [100, 40, 60]\n",
        "\n",
        "print(\"Use index:\")\n",
        "for tup in zip(names, scores):\n",
        "  print(tup[0], ':', tup[1])\n",
        "print()\n",
        "\n",
        "print(\"Use tuple unpacking:\")\n",
        "for n, s in zip(names, scores):\n",
        "  print(n, ':', s)"
      ],
      "metadata": {
        "colab": {
          "base_uri": "https://localhost:8080/"
        },
        "id": "hJGE22bZElr3",
        "outputId": "98450b39-d5d7-4f44-f49b-78a6f199f7bf"
      },
      "execution_count": null,
      "outputs": [
        {
          "output_type": "stream",
          "name": "stdout",
          "text": [
            "Use index:\n",
            "Bob : 100\n",
            "Alex : 40\n",
            "Tammy : 60\n",
            "\n",
            "Use tuple unpacking:\n",
            "Bob : 100\n",
            "Alex : 40\n",
            "Tammy : 60\n"
          ]
        }
      ]
    },
    {
      "cell_type": "code",
      "source": [
        "# zipping group items of lists into tuples base on the index\n",
        "age = [12, 13, 10]\n",
        "\n",
        "for i in zip(names, scores, age):\n",
        "  print(i)"
      ],
      "metadata": {
        "colab": {
          "base_uri": "https://localhost:8080/"
        },
        "id": "wA7gZKx0FVmE",
        "outputId": "2e0f36dd-f8d2-4f3e-f1f4-636d7d9e10bd"
      },
      "execution_count": null,
      "outputs": [
        {
          "output_type": "stream",
          "name": "stdout",
          "text": [
            "('Bob', 100, 12)\n",
            "('Alex', 40, 13)\n",
            "('Tammy', 60, 10)\n"
          ]
        }
      ]
    },
    {
      "cell_type": "code",
      "source": [
        "# unzipping zipped lists\n",
        "z1 = zip(names, scores)\n",
        "l1, l2 = zip(*z1)\n",
        "print(l1, l2)"
      ],
      "metadata": {
        "colab": {
          "base_uri": "https://localhost:8080/"
        },
        "id": "i_xcpnK6FwtZ",
        "outputId": "5849c8f2-07d4-4c1e-911f-59af17bd55bf"
      },
      "execution_count": null,
      "outputs": [
        {
          "output_type": "stream",
          "name": "stdout",
          "text": [
            "('Bob', 'Alex', 'Tammy') (100, 40, 60)\n"
          ]
        }
      ]
    },
    {
      "cell_type": "markdown",
      "source": [
        "# Dictionary\n",
        "Collection of data stored in key value pairs.\n",
        "\n",
        "- [x] **Ordered**\n",
        "- [ ] ~**Indexed**~\n",
        "- [x] **Mutable**\n",
        "\n",
        "[Dictionary Methods](https://www.w3schools.com/python/python_ref_dictionary.asp)"
      ],
      "metadata": {
        "id": "ak2APrjvGykq"
      }
    },
    {
      "cell_type": "code",
      "source": [
        "# create a dictionary\n",
        "dict1 = {'Name': 'John', 'Age': 25, 'Home': 'Brooklyn', 'Jobs': {'Name': 'Instructor', 'Years': 10}, 'Hobbies': ['Skiing', 'Movies', 'Karaoke']}\n",
        "dict1"
      ],
      "metadata": {
        "colab": {
          "base_uri": "https://localhost:8080/"
        },
        "id": "5GY8JPJOGIjh",
        "outputId": "74d50534-ba65-4490-d9e6-3e0b37669e03"
      },
      "execution_count": null,
      "outputs": [
        {
          "output_type": "execute_result",
          "data": {
            "text/plain": [
              "{'Name': 'John',\n",
              " 'Age': 25,\n",
              " 'Home': 'Brooklyn',\n",
              " 'Jobs': {'Name': 'Instructor', 'Years': 10},\n",
              " 'Hobbies': ['Skiing', 'Movies', 'Karaoke']}"
            ]
          },
          "metadata": {},
          "execution_count": 46
        }
      ]
    },
    {
      "cell_type": "code",
      "source": [
        "# get value with key\n",
        "print(dict1['Jobs'])\n",
        "\n",
        "# access nested elements\n",
        "print(dict1['Jobs']['Name'])\n",
        "print(dict1['Hobbies'][0])"
      ],
      "metadata": {
        "colab": {
          "base_uri": "https://localhost:8080/"
        },
        "id": "hTu2Q_FnXM8Z",
        "outputId": "ebbf1a98-32b7-45c9-d49b-5ec4bc628b7a"
      },
      "execution_count": null,
      "outputs": [
        {
          "output_type": "stream",
          "name": "stdout",
          "text": [
            "{'Name': 'Instructor', 'Years': 10}\n",
            "Instructor\n",
            "Skiing\n"
          ]
        }
      ]
    },
    {
      "cell_type": "code",
      "source": [
        "# changing value of an existing key\n",
        "dict1['Name'] = 'Bob Bobby'\n",
        "dict1"
      ],
      "metadata": {
        "colab": {
          "base_uri": "https://localhost:8080/"
        },
        "id": "fxxte-eRHQmH",
        "outputId": "201cfe63-54e5-4f2d-ed9f-d73e755686c0"
      },
      "execution_count": null,
      "outputs": [
        {
          "output_type": "execute_result",
          "data": {
            "text/plain": [
              "{'Name': 'Bob Bobby',\n",
              " 'Age': 25,\n",
              " 'Home': 'Brooklyn',\n",
              " 'Jobs': {'Name': 'Instructor', 'Years': 10},\n",
              " 'Hobbies': ['Skiing', 'Movies', 'Karaoke']}"
            ]
          },
          "metadata": {},
          "execution_count": 48
        }
      ]
    },
    {
      "cell_type": "code",
      "source": [
        "# adding new key, value pair\n",
        "dict1['Birthday'] = 'June 10, 2023'\n",
        "dict1"
      ],
      "metadata": {
        "colab": {
          "base_uri": "https://localhost:8080/"
        },
        "id": "-5134ScYHemE",
        "outputId": "19ce6098-b938-42d6-fe66-b51283709d4f"
      },
      "execution_count": null,
      "outputs": [
        {
          "output_type": "execute_result",
          "data": {
            "text/plain": [
              "{'Name': 'Bob Bobby',\n",
              " 'Age': 25,\n",
              " 'Home': 'Brooklyn',\n",
              " 'Jobs': {'Name': 'Instructor', 'Years': 10},\n",
              " 'Hobbies': ['Skiing', 'Movies', 'Karaoke'],\n",
              " 'Birthday': 'June 10, 2023'}"
            ]
          },
          "metadata": {},
          "execution_count": 49
        }
      ]
    },
    {
      "cell_type": "markdown",
      "source": [
        "## Dictionary Methods"
      ],
      "metadata": {
        "id": "xZ7JSwe4WIvH"
      }
    },
    {
      "cell_type": "code",
      "source": [
        "# get value from key\n",
        "dict1.get('Jobs')"
      ],
      "metadata": {
        "colab": {
          "base_uri": "https://localhost:8080/"
        },
        "id": "zmFWY89LV-ji",
        "outputId": "44f63a7a-e4fd-44ee-e745-392af69c9147"
      },
      "execution_count": null,
      "outputs": [
        {
          "output_type": "execute_result",
          "data": {
            "text/plain": [
              "{'Name': 'Instructor', 'Years': 10}"
            ]
          },
          "metadata": {},
          "execution_count": 68
        }
      ]
    },
    {
      "cell_type": "code",
      "source": [
        "# remove key, value pair usinig the key\n",
        "dict1.pop('Home')\n",
        "dict1"
      ],
      "metadata": {
        "colab": {
          "base_uri": "https://localhost:8080/"
        },
        "id": "XeWDczpjIGUa",
        "outputId": "46f8870a-2014-4688-f92c-6e6de484bd20"
      },
      "execution_count": null,
      "outputs": [
        {
          "output_type": "execute_result",
          "data": {
            "text/plain": [
              "{'Name': 'Bob Bobby',\n",
              " 'Age': 25,\n",
              " 'Jobs': {'Name': 'Instructor', 'Years': 10},\n",
              " 'Hobbies': ['Skiing', 'Movies', 'Karaoke'],\n",
              " 'Birthday': 'June 10, 2023'}"
            ]
          },
          "metadata": {},
          "execution_count": 50
        }
      ]
    },
    {
      "cell_type": "code",
      "source": [
        "# find all the keys in a dictionary\n",
        "dict1.keys()"
      ],
      "metadata": {
        "colab": {
          "base_uri": "https://localhost:8080/"
        },
        "id": "-aFiCHmCIbwv",
        "outputId": "ffe3f354-3f9c-4fd3-84a9-604e24c6d38f"
      },
      "execution_count": null,
      "outputs": [
        {
          "output_type": "execute_result",
          "data": {
            "text/plain": [
              "dict_keys(['Name', 'Age', 'Jobs', 'Hobbies', 'Birthday'])"
            ]
          },
          "metadata": {},
          "execution_count": 51
        }
      ]
    },
    {
      "cell_type": "code",
      "source": [
        "# find all the values inside a dictionary\n",
        "dict1.values()"
      ],
      "metadata": {
        "colab": {
          "base_uri": "https://localhost:8080/"
        },
        "id": "nafOVuuzIo-C",
        "outputId": "04e2ad44-f365-4b8e-a3e5-90e2e8797069"
      },
      "execution_count": null,
      "outputs": [
        {
          "output_type": "execute_result",
          "data": {
            "text/plain": [
              "dict_values(['Bob Bobby', 25, {'Name': 'Instructor', 'Years': 10}, ['Skiing', 'Movies', 'Karaoke'], 'June 10, 2023'])"
            ]
          },
          "metadata": {},
          "execution_count": 52
        }
      ]
    },
    {
      "cell_type": "code",
      "source": [
        "# find every key, value pair in the dictionary\n",
        "dict1.items()"
      ],
      "metadata": {
        "colab": {
          "base_uri": "https://localhost:8080/"
        },
        "id": "JiDm7O23Iw6g",
        "outputId": "22bda5af-6ac3-48d4-a8c1-d5c086a5b7c3"
      },
      "execution_count": null,
      "outputs": [
        {
          "output_type": "execute_result",
          "data": {
            "text/plain": [
              "dict_items([('Name', 'Bob Bobby'), ('Age', 25), ('Jobs', {'Name': 'Instructor', 'Years': 10}), ('Hobbies', ['Skiing', 'Movies', 'Karaoke']), ('Birthday', 'June 10, 2023')])"
            ]
          },
          "metadata": {},
          "execution_count": 53
        }
      ]
    },
    {
      "cell_type": "markdown",
      "source": [
        "# Type Casting\n",
        "Converting between datatypes"
      ],
      "metadata": {
        "id": "-HZEgXN4f3HV"
      }
    },
    {
      "cell_type": "code",
      "source": [
        "# type casting set into list\n",
        "print(s4)\n",
        "l1 = list(s4)\n",
        "print(l1)"
      ],
      "metadata": {
        "colab": {
          "base_uri": "https://localhost:8080/"
        },
        "id": "a38Yhb2vBvSx",
        "outputId": "5b0a4487-2cf7-47c7-81e4-c80b01da5908"
      },
      "execution_count": null,
      "outputs": [
        {
          "output_type": "stream",
          "name": "stdout",
          "text": [
            "{1, 2, 3, 5}\n",
            "[1, 2, 3, 5]\n"
          ]
        }
      ]
    },
    {
      "cell_type": "code",
      "source": [
        "# type casting set into tuple\n",
        "print(s4)\n",
        "t1 = tuple(s4)\n",
        "print(t1)"
      ],
      "metadata": {
        "colab": {
          "base_uri": "https://localhost:8080/"
        },
        "id": "b8PN6hoPWld3",
        "outputId": "c9e8ae00-01d0-462a-ed04-63503e9c1ea3"
      },
      "execution_count": null,
      "outputs": [
        {
          "output_type": "stream",
          "name": "stdout",
          "text": [
            "{1, 2, 3, 5}\n",
            "(1, 2, 3, 5)\n"
          ]
        }
      ]
    },
    {
      "cell_type": "code",
      "source": [
        "# type casting from dictionary to other datatypes will only give you the key of the dictionary\n",
        "set(dict1)"
      ],
      "metadata": {
        "colab": {
          "base_uri": "https://localhost:8080/"
        },
        "id": "KfUb2IM_R3Tf",
        "outputId": "581dd9ae-3036-40a1-ab1a-6f20c2ab5aa4"
      },
      "execution_count": null,
      "outputs": [
        {
          "output_type": "execute_result",
          "data": {
            "text/plain": [
              "{'Age', 'Birthday', 'Hobbies', 'Jobs', 'Name'}"
            ]
          },
          "metadata": {},
          "execution_count": 66
        }
      ]
    },
    {
      "cell_type": "markdown",
      "source": [
        "# *Additional Material: Class Excercise - Basic Database*"
      ],
      "metadata": {
        "id": "lhrccq-XSZKk"
      }
    },
    {
      "cell_type": "markdown",
      "source": [
        "**Instructions**\n",
        "1. Create an empty dictionary `student_db` to act as a database for students\n",
        "2. Implement a function `add_student()` that adds a new student to the database. The function takes in `database`, `id`, `name`, `grade` as arguments. Use `id` as the dictionary key and store `name`, `grade` as a tuple for the dictionary value.\n",
        "\n",
        "  - `database`: Your student database\n",
        "  - `id`: dictionary keys: Unique identifier for each student\n",
        "  - `name`: String, student's name\n",
        "  - `grade` float, their current grade level\n",
        "\n",
        "  ** `name` and `grade` should be stored in a single dictionary value as a tuple\n",
        "3. Implement a function `get_student()` that retrieves the information of a student by their ID. It should take in 2 arguments `database`, `id` and it should return the student's name and grade\n",
        "4. Implement a function `display_students()` that displays a list of all students in the database. It should take in 1 argument `database`. The list should include the student ID, name, and grade."
      ],
      "metadata": {
        "id": "6JERf6eV3iNN"
      }
    },
    {
      "cell_type": "code",
      "source": [
        "# your code goes here\n"
      ],
      "metadata": {
        "id": "LJwuyOnx3m3x"
      },
      "execution_count": null,
      "outputs": []
    },
    {
      "cell_type": "code",
      "source": [
        "# @title Kang's Implementation\n",
        "\n",
        "def add_student(db: dict, id: int, name: str, grade: float):\n",
        "  db[id] = (name, grade)\n",
        "\n",
        "def get_student(db: dict, id: int):\n",
        "  student = db.get(id)\n",
        "  if student != None:\n",
        "    return student[0], student[1]\n",
        "  raise Exception(f'No student with id = {id}. Last id of student is {list(db.keys())[-1]}')\n",
        "\n",
        "def display_students(db: dict):\n",
        "  print('================')\n",
        "  print('Student Database')\n",
        "  print('================')\n",
        "  for id, student in db.items():\n",
        "    print('id:', id)\n",
        "    print('name:', student[0])\n",
        "    print('grade:', student[1])\n",
        "    print('----------------')"
      ],
      "metadata": {
        "cellView": "form",
        "id": "5el7Ihjn53VT"
      },
      "execution_count": null,
      "outputs": []
    },
    {
      "cell_type": "markdown",
      "source": [
        "### Test Your Code"
      ],
      "metadata": {
        "id": "Ow4ILXw1cnQp"
      }
    },
    {
      "cell_type": "code",
      "source": [
        "student_db = {}\n",
        "\n",
        "add_student(student_db, 0, 'Bob', 60)\n",
        "add_student(student_db, 1, 'Alice', 85.5)\n",
        "add_student(student_db, 2, 'Max', 76)\n",
        "\n",
        "student, grade = get_student(student_db, 2)\n",
        "# s1, g1 = get_student(student_db, 3)  # will raise error\n",
        "print(student, grade)\n",
        "print()\n",
        "\n",
        "display_students(student_db)"
      ],
      "metadata": {
        "id": "y6rOZLRd56sH"
      },
      "execution_count": null,
      "outputs": []
    },
    {
      "cell_type": "markdown",
      "source": [
        "# **Class Survey**\n",
        "\n",
        "Directly below is a link to a survey that lets us know how we're doing and any additional feedback you might have. Please take some time to fill out the survey in full so that we can learn how to better serve you.\n",
        "\n",
        "[**Survey Link**](https://docs.google.com/forms/d/e/1FAIpQLSeRoFsj9kC436jyBuImwv2QToGSYYZDo1SygTEnsQ-k3ozHng/viewform)"
      ],
      "metadata": {
        "id": "VYX_X84Ro0Rz"
      }
    }
  ]
}