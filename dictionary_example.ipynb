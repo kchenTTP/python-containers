{
  "nbformat": 4,
  "nbformat_minor": 0,
  "metadata": {
    "colab": {
      "provenance": [],
      "authorship_tag": "ABX9TyPewTKYTJiqfDOB5wXECmJ2",
      "include_colab_link": true
    },
    "kernelspec": {
      "name": "python3",
      "display_name": "Python 3"
    },
    "language_info": {
      "name": "python"
    }
  },
  "cells": [
    {
      "cell_type": "markdown",
      "metadata": {
        "id": "view-in-github",
        "colab_type": "text"
      },
      "source": [
        "<a href=\"https://colab.research.google.com/github/kchenTTP/python-containers/blob/main/dictionary_example.ipynb\" target=\"_parent\"><img src=\"https://colab.research.google.com/assets/colab-badge.svg\" alt=\"Open In Colab\"/></a>"
      ]
    },
    {
      "cell_type": "markdown",
      "source": [
        "# **Python Container Datatype Example**"
      ],
      "metadata": {
        "id": "ZhIIJP1thWYa"
      }
    },
    {
      "cell_type": "markdown",
      "source": [
        "## Dictionary Excercise: Student Database\n",
        "\n",
        "**Instructions**\n",
        "1. Create an empty dictionary to act as a database for students\n",
        "2. Implement a function `add_student()` that adds a new student to the database. The function takes in `database`, `id`, `name`, `grade` as arguments\n",
        "  - `database`: Your student database\n",
        "  - `id`: dictionary keys: Unique identifier for each student\n",
        "  - `name`: String, student's name\n",
        "  - `grade` float, their current grade level\n",
        "\n",
        "  ** `name` and `grade` should be stored in a single dictionary value as a tuple\n",
        "3. Implement a function `get_student()` that retrieves the information of a student by their ID. It should take in 2 arguments `database`, `id` and it should return the student's name and grade\n",
        "4. Implement a function `display_students()` that displays a list of all students in the database. It should take in 1 argument `database`. The list should include the student ID, name, and grade."
      ],
      "metadata": {
        "id": "2R7dMvbJQej_"
      }
    },
    {
      "cell_type": "code",
      "execution_count": null,
      "metadata": {
        "id": "gUlLI_jOYTPV"
      },
      "outputs": [],
      "source": [
        "# @title Student Database with Functions\n",
        "\n",
        "def add_student(db: dict, id: int, name: str, grade: float):\n",
        "  db[id] = (name, grade)\n",
        "\n",
        "def add_multiple_students(db:dict, list_of_ids: list, list_of_names: list, list_of_grades: list):\n",
        "  for id, student, grade in zip(list_of_ids, list_of_names, list_of_grades):\n",
        "        db[id] = (student, grade)\n",
        "\n",
        "def get_student(db: dict, id: int):\n",
        "  student = db.get(id)\n",
        "  if student != None:\n",
        "    return student[0], student[1]\n",
        "  raise Exception(f'No student with id = {id}. Last id of student is {list(db.keys())[-1]}')\n",
        "\n",
        "def display_students(db: dict):\n",
        "  print('================')\n",
        "  print('Student Database')\n",
        "  print('================')\n",
        "  for id, student in db.items():\n",
        "    print('id:', id)\n",
        "    print('name:', student[0])\n",
        "    print('grade:', student[1])\n",
        "    print('----------------')"
      ]
    },
    {
      "cell_type": "code",
      "source": [
        "# dictionary to contain student information\n",
        "student_db = {}\n",
        "\n",
        "# list of all the students id, name, and grade\n",
        "n_students = 3\n",
        "student_ids = list(range(0, n_students))\n",
        "student_names = ['Bob', 'Alice', 'Max']\n",
        "student_grades = [60, 85.5, 76]\n",
        "\n",
        "# add multiple student\n",
        "add_multiple_students(student_db, student_ids, student_names, student_grades)\n",
        "\n",
        "# add one student\n",
        "add_student(student_db, 3, 'Tom', 93)\n",
        "\n",
        "# get student info using id\n",
        "student, grade = get_student(student_db, 2)\n",
        "# s1, g1 = get_student(student_db, 3)  # will raise error\n",
        "print(student, grade)\n",
        "print()\n",
        "\n",
        "display_students(student_db)"
      ],
      "metadata": {
        "colab": {
          "base_uri": "https://localhost:8080/"
        },
        "id": "e8g2LUsdS452",
        "outputId": "edb8111b-8ee1-44c0-a3bc-87f13e222290"
      },
      "execution_count": null,
      "outputs": [
        {
          "output_type": "stream",
          "name": "stdout",
          "text": [
            "Max 76\n",
            "\n",
            "================\n",
            "Student Database\n",
            "================\n",
            "id: 0\n",
            "name: Bob\n",
            "grade: 60\n",
            "----------------\n",
            "id: 1\n",
            "name: Alice\n",
            "grade: 85.5\n",
            "----------------\n",
            "id: 2\n",
            "name: Max\n",
            "grade: 76\n",
            "----------------\n",
            "id: 3\n",
            "name: Tom\n",
            "grade: 93\n",
            "----------------\n"
          ]
        }
      ]
    },
    {
      "cell_type": "code",
      "execution_count": null,
      "metadata": {
        "id": "8f78jfmzQZls"
      },
      "outputs": [],
      "source": [
        "# @title Student Database with Class\n",
        "class StudentDB():\n",
        "  def __init__(self):\n",
        "    self.__db = {}\n",
        "\n",
        "  def add_one(self, id: int, name: str, grade: float):\n",
        "    if id in self.__db.keys():\n",
        "      raise ValueError(f'Invalid id: {id}. Next available id starts at {list(self.__db.keys())[-1] + 1}')\n",
        "    if not isinstance(name, str):\n",
        "      raise ValueError(\"Invalid data format. 'name' attribute is not a string.\")\n",
        "\n",
        "    self.__db[id] = (name, grade)\n",
        "\n",
        "  def add_multiple(self, list_of_ids: list, list_of_names: list, list_of_grades: list):\n",
        "    # check valueError\n",
        "    if not isinstance(list_of_ids, list):\n",
        "      raise ValueError(\"Invalid data format. list_of_ids not a list.\")\n",
        "    if not isinstance(list_of_names, list):\n",
        "      raise ValueError(\"Invalid data format. list_of_names not a list.\")\n",
        "    if not isinstance(list_of_grades, list):\n",
        "      raise ValueError(\"Invalid data format. list_of_grades not a list.\")\n",
        "\n",
        "    for id, student, grade in zip(list_of_ids, list_of_names, list_of_grades):\n",
        "      if id in self.__db.keys():\n",
        "        raise ValueError(f'id: {id} not available')\n",
        "      self.__db[id] = (student, grade)\n",
        "\n",
        "  def get_id_with_name(self, name: str):\n",
        "    if not isinstance(name, str):\n",
        "      raise ValueError(\"Invalid data format. 'name' attribute is not a string.\")\n",
        "\n",
        "    for k, v in self.__db.items():\n",
        "      n, _ = v\n",
        "      if name == n:\n",
        "        return k\n",
        "    raise NameError(\"Name '{}' does not exist\".format(name))\n",
        "\n",
        "  def get_next_available_id(self):\n",
        "    list_of_ids = list(self.__db.keys())\n",
        "    id = 0\n",
        "    while id in list_of_ids:\n",
        "      id += 1\n",
        "    return id\n",
        "\n",
        "  def get_student_with_id(self, id: int):\n",
        "    if not isinstance(id, int):\n",
        "      raise ValueError(\"Invalid data format. 'id' attribute is not an int.\")\n",
        "\n",
        "    student = self.__db.get(id)\n",
        "    if student != None:\n",
        "      return student[0], student[1]\n",
        "    raise Exception(f'No student with id = {id}. Last id of student is {list(self.__db.keys())[-1]}')\n",
        "\n",
        "  def update_student_grade(self, id: int, new_grade):\n",
        "    if not isinstance(id, int):\n",
        "      raise ValueError(\"Invalid data format. 'id' attribute is not an int.\")\n",
        "\n",
        "    try:\n",
        "      n, _ = self.__db.get(id)\n",
        "      self.__db.update({id: (n, new_grade)})\n",
        "    except ValueError:\n",
        "      print(f'id: {id} does not exist in this database')\n",
        "\n",
        "  def __str__(self):\n",
        "    string = '================\\n' + 'Student Database\\n' + '================\\n'\n",
        "    for id, student in self.__db.items():\n",
        "      s = f'id: {id}\\n' + f'name: {student[0]}\\n' + f'grade: {student[1]}\\n' + '----------------\\n'\n",
        "      string += s\n",
        "    return string"
      ]
    },
    {
      "cell_type": "code",
      "source": [
        "# students to add to the database\n",
        "n_students = 3\n",
        "student_ids = list(range(0, n_students))\n",
        "student_names = ['Bob', 'Alice', 'Max']\n",
        "student_grades = [60, 85.5, 76]\n",
        "\n",
        "# instantiate StudentDB and add multiple value\n",
        "students = StudentDB()\n",
        "students.add_multiple(student_ids, student_names, student_grades)\n",
        "\n",
        "# find next available id\n",
        "next_id = students.get_next_available_id()\n",
        "print('Next available id number:', next_id)\n",
        "print()\n",
        "\n",
        "# add one student\n",
        "students.add_one(next_id, 'Tom', 93)\n",
        "\n",
        "# get student information using student id\n",
        "stu_id = 2\n",
        "name, grade = students.get_student_with_id(stu_id)\n",
        "print(\"{}'s id:\".format(name), stu_id)\n",
        "print('student name:', name)\n",
        "print('student grade:', grade)\n",
        "print()\n",
        "\n",
        "# update student's grade using id\n",
        "students.update_student_grade(students.get_id_with_name('Max'), 80)\n",
        "\n",
        "print('Next available id number:',students.get_next_available_id())"
      ],
      "metadata": {
        "colab": {
          "base_uri": "https://localhost:8080/"
        },
        "id": "nhsNWlVWZA2D",
        "outputId": "5ab1edd1-cb9a-4ee9-ba64-4e646e47850a"
      },
      "execution_count": null,
      "outputs": [
        {
          "output_type": "stream",
          "name": "stdout",
          "text": [
            "Next available id number: 3\n",
            "\n",
            "Max's id: 2\n",
            "student name: Max\n",
            "student grade: 76\n",
            "\n",
            "Next available id number: 4\n"
          ]
        }
      ]
    },
    {
      "cell_type": "code",
      "source": [
        "# print out entire database\n",
        "print(students)"
      ],
      "metadata": {
        "colab": {
          "base_uri": "https://localhost:8080/"
        },
        "id": "3PMd9qoPnJSt",
        "outputId": "75ee6580-68d5-4c04-d84e-b6c2f01047d5"
      },
      "execution_count": null,
      "outputs": [
        {
          "output_type": "stream",
          "name": "stdout",
          "text": [
            "================\n",
            "Student Database\n",
            "================\n",
            "id: 0\n",
            "name: Bob\n",
            "grade: 60\n",
            "----------------\n",
            "id: 1\n",
            "name: Alice\n",
            "grade: 85.5\n",
            "----------------\n",
            "id: 2\n",
            "name: Max\n",
            "grade: 80\n",
            "----------------\n",
            "id: 3\n",
            "name: Tom\n",
            "grade: 93\n",
            "----------------\n",
            "\n"
          ]
        }
      ]
    },
    {
      "cell_type": "code",
      "source": [
        "# get hiding attribute\n",
        "print(students._StudentDB__db)"
      ],
      "metadata": {
        "colab": {
          "base_uri": "https://localhost:8080/"
        },
        "id": "U7c5TwWOilxo",
        "outputId": "e5dbdff9-ce90-467e-93e8-39aa17132e35"
      },
      "execution_count": null,
      "outputs": [
        {
          "output_type": "stream",
          "name": "stdout",
          "text": [
            "{0: ('Bob', 60), 1: ('Alice', 85.5), 2: ('Max', 80), 3: ('Tom', 93)}\n"
          ]
        }
      ]
    }
  ]
}